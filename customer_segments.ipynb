{
 "cells": [
  {
   "cell_type": "markdown",
   "metadata": {},
   "source": [
    "# Identifying Customer Segments"
   ]
  },
  {
   "cell_type": "markdown",
   "metadata": {},
   "source": [
    "## Project\n",
    "\n",
    "There is a company in Germany which performs mail-order sales. It wants to target a marketing campaign to people that are most likely to purchase their products. It asks for help in identifying these groups of people. The goal of this project is to help the company by finding its customer segments.\n",
    "\n",
    "The company is real and it is a real business case provided by the Bertlesmann Arvato Analytics. This is why the enterprise name is not revealed. Arvato provided real datasets with business data concerning the company's customers. They are not publicly accessible so I can only present here the results of my analysis.\n",
    "\n",
    "### Project outline\n",
    "\n",
    "This project is quite complicated, so here is the outline of what I am going to do.\n",
    "1. Data pre-processing\n",
    "\n",
    "    The dataset needs a fair amount of preprocessing. There are missing data, features that need re-encoding.\n",
    "\n",
    "\n",
    "2. Feature transformation\n",
    "\n",
    "    There is a lot of features, so I will apply PCA to reduce it. Before applying PCA features need to be scaled.\n",
    "\n",
    "\n",
    "3. Clustering\n",
    "\n",
    "    First, I am going to find clusters in general population. Then I will apply the same clustering to the customer population. I want to find clusters that are over-represented among consumers. This will indicate the company's customer profile."
   ]
  },
  {
   "cell_type": "markdown",
   "metadata": {},
   "source": [
    "## Import resources"
   ]
  },
  {
   "cell_type": "code",
   "execution_count": 1,
   "metadata": {},
   "outputs": [],
   "source": [
    "import numpy as np\n",
    "import pandas as pd\n",
    "import matplotlib.pyplot as plt\n",
    "import seaborn as sns\n",
    "\n",
    "%matplotlib inline"
   ]
  },
  {
   "cell_type": "markdown",
   "metadata": {},
   "source": [
    "## Load the data\n",
    "\n",
    "Arvato Analytics provided 4 files for the project:\n",
    "- `AZDIAS_Subset.csv` - general German population data, 891211 persons x 85 features,\n",
    "- `CUSTOMERS_Subset.csv` - company's customer population data, 191652 persons x 85 features,\n",
    "- `Data_Dictionary.md` - file with information about the features in the provided datasets,\n",
    "- `AZDIAS_Feature_Summary.csv` - attributes of each feature, 85 features x 4 columns.\n",
    "\n",
    "Let's explore the data. General population and customer datasets have the same structure, so it will be enough to look at only one of them."
   ]
  },
  {
   "cell_type": "code",
   "execution_count": 2,
   "metadata": {},
   "outputs": [],
   "source": [
    "# Load in the general demographics data.\n",
    "azdias = pd.read_csv('AZDIAS_Subset.csv', sep = ';')\n",
    "\n",
    "# Load in the feature summary file.\n",
    "feat_info = pd.read_csv('AZDIAS_Feature_Summary.csv', sep = ';')"
   ]
  },
  {
   "cell_type": "code",
   "execution_count": 3,
   "metadata": {},
   "outputs": [
    {
     "data": {
      "text/html": [
       "<div>\n",
       "<style scoped>\n",
       "    .dataframe tbody tr th:only-of-type {\n",
       "        vertical-align: middle;\n",
       "    }\n",
       "\n",
       "    .dataframe tbody tr th {\n",
       "        vertical-align: top;\n",
       "    }\n",
       "\n",
       "    .dataframe thead th {\n",
       "        text-align: right;\n",
       "    }\n",
       "</style>\n",
       "<table border=\"1\" class=\"dataframe\">\n",
       "  <thead>\n",
       "    <tr style=\"text-align: right;\">\n",
       "      <th></th>\n",
       "      <th>AGER_TYP</th>\n",
       "      <th>ALTERSKATEGORIE_GROB</th>\n",
       "      <th>ANREDE_KZ</th>\n",
       "      <th>CJT_GESAMTTYP</th>\n",
       "      <th>FINANZ_MINIMALIST</th>\n",
       "      <th>FINANZ_SPARER</th>\n",
       "      <th>FINANZ_VORSORGER</th>\n",
       "      <th>FINANZ_ANLEGER</th>\n",
       "      <th>FINANZ_UNAUFFAELLIGER</th>\n",
       "      <th>FINANZ_HAUSBAUER</th>\n",
       "      <th>...</th>\n",
       "      <th>PLZ8_ANTG1</th>\n",
       "      <th>PLZ8_ANTG2</th>\n",
       "      <th>PLZ8_ANTG3</th>\n",
       "      <th>PLZ8_ANTG4</th>\n",
       "      <th>PLZ8_BAUMAX</th>\n",
       "      <th>PLZ8_HHZ</th>\n",
       "      <th>PLZ8_GBZ</th>\n",
       "      <th>ARBEIT</th>\n",
       "      <th>ORTSGR_KLS9</th>\n",
       "      <th>RELAT_AB</th>\n",
       "    </tr>\n",
       "  </thead>\n",
       "  <tbody>\n",
       "    <tr>\n",
       "      <th>0</th>\n",
       "      <td>-1</td>\n",
       "      <td>2</td>\n",
       "      <td>1</td>\n",
       "      <td>2.0</td>\n",
       "      <td>3</td>\n",
       "      <td>4</td>\n",
       "      <td>3</td>\n",
       "      <td>5</td>\n",
       "      <td>5</td>\n",
       "      <td>3</td>\n",
       "      <td>...</td>\n",
       "      <td>NaN</td>\n",
       "      <td>NaN</td>\n",
       "      <td>NaN</td>\n",
       "      <td>NaN</td>\n",
       "      <td>NaN</td>\n",
       "      <td>NaN</td>\n",
       "      <td>NaN</td>\n",
       "      <td>NaN</td>\n",
       "      <td>NaN</td>\n",
       "      <td>NaN</td>\n",
       "    </tr>\n",
       "    <tr>\n",
       "      <th>1</th>\n",
       "      <td>-1</td>\n",
       "      <td>1</td>\n",
       "      <td>2</td>\n",
       "      <td>5.0</td>\n",
       "      <td>1</td>\n",
       "      <td>5</td>\n",
       "      <td>2</td>\n",
       "      <td>5</td>\n",
       "      <td>4</td>\n",
       "      <td>5</td>\n",
       "      <td>...</td>\n",
       "      <td>2.0</td>\n",
       "      <td>3.0</td>\n",
       "      <td>2.0</td>\n",
       "      <td>1.0</td>\n",
       "      <td>1.0</td>\n",
       "      <td>5.0</td>\n",
       "      <td>4.0</td>\n",
       "      <td>3.0</td>\n",
       "      <td>5.0</td>\n",
       "      <td>4.0</td>\n",
       "    </tr>\n",
       "    <tr>\n",
       "      <th>2</th>\n",
       "      <td>-1</td>\n",
       "      <td>3</td>\n",
       "      <td>2</td>\n",
       "      <td>3.0</td>\n",
       "      <td>1</td>\n",
       "      <td>4</td>\n",
       "      <td>1</td>\n",
       "      <td>2</td>\n",
       "      <td>3</td>\n",
       "      <td>5</td>\n",
       "      <td>...</td>\n",
       "      <td>3.0</td>\n",
       "      <td>3.0</td>\n",
       "      <td>1.0</td>\n",
       "      <td>0.0</td>\n",
       "      <td>1.0</td>\n",
       "      <td>4.0</td>\n",
       "      <td>4.0</td>\n",
       "      <td>3.0</td>\n",
       "      <td>5.0</td>\n",
       "      <td>2.0</td>\n",
       "    </tr>\n",
       "    <tr>\n",
       "      <th>3</th>\n",
       "      <td>2</td>\n",
       "      <td>4</td>\n",
       "      <td>2</td>\n",
       "      <td>2.0</td>\n",
       "      <td>4</td>\n",
       "      <td>2</td>\n",
       "      <td>5</td>\n",
       "      <td>2</td>\n",
       "      <td>1</td>\n",
       "      <td>2</td>\n",
       "      <td>...</td>\n",
       "      <td>2.0</td>\n",
       "      <td>2.0</td>\n",
       "      <td>2.0</td>\n",
       "      <td>0.0</td>\n",
       "      <td>1.0</td>\n",
       "      <td>3.0</td>\n",
       "      <td>4.0</td>\n",
       "      <td>2.0</td>\n",
       "      <td>3.0</td>\n",
       "      <td>3.0</td>\n",
       "    </tr>\n",
       "    <tr>\n",
       "      <th>4</th>\n",
       "      <td>-1</td>\n",
       "      <td>3</td>\n",
       "      <td>1</td>\n",
       "      <td>5.0</td>\n",
       "      <td>4</td>\n",
       "      <td>3</td>\n",
       "      <td>4</td>\n",
       "      <td>1</td>\n",
       "      <td>3</td>\n",
       "      <td>2</td>\n",
       "      <td>...</td>\n",
       "      <td>2.0</td>\n",
       "      <td>4.0</td>\n",
       "      <td>2.0</td>\n",
       "      <td>1.0</td>\n",
       "      <td>2.0</td>\n",
       "      <td>3.0</td>\n",
       "      <td>3.0</td>\n",
       "      <td>4.0</td>\n",
       "      <td>6.0</td>\n",
       "      <td>5.0</td>\n",
       "    </tr>\n",
       "  </tbody>\n",
       "</table>\n",
       "<p>5 rows × 85 columns</p>\n",
       "</div>"
      ],
      "text/plain": [
       "   AGER_TYP  ALTERSKATEGORIE_GROB  ANREDE_KZ  CJT_GESAMTTYP  \\\n",
       "0        -1                     2          1            2.0   \n",
       "1        -1                     1          2            5.0   \n",
       "2        -1                     3          2            3.0   \n",
       "3         2                     4          2            2.0   \n",
       "4        -1                     3          1            5.0   \n",
       "\n",
       "   FINANZ_MINIMALIST  FINANZ_SPARER  FINANZ_VORSORGER  FINANZ_ANLEGER  \\\n",
       "0                  3              4                 3               5   \n",
       "1                  1              5                 2               5   \n",
       "2                  1              4                 1               2   \n",
       "3                  4              2                 5               2   \n",
       "4                  4              3                 4               1   \n",
       "\n",
       "   FINANZ_UNAUFFAELLIGER  FINANZ_HAUSBAUER  ...  PLZ8_ANTG1  PLZ8_ANTG2  \\\n",
       "0                      5                 3  ...         NaN         NaN   \n",
       "1                      4                 5  ...         2.0         3.0   \n",
       "2                      3                 5  ...         3.0         3.0   \n",
       "3                      1                 2  ...         2.0         2.0   \n",
       "4                      3                 2  ...         2.0         4.0   \n",
       "\n",
       "   PLZ8_ANTG3  PLZ8_ANTG4  PLZ8_BAUMAX  PLZ8_HHZ  PLZ8_GBZ  ARBEIT  \\\n",
       "0         NaN         NaN          NaN       NaN       NaN     NaN   \n",
       "1         2.0         1.0          1.0       5.0       4.0     3.0   \n",
       "2         1.0         0.0          1.0       4.0       4.0     3.0   \n",
       "3         2.0         0.0          1.0       3.0       4.0     2.0   \n",
       "4         2.0         1.0          2.0       3.0       3.0     4.0   \n",
       "\n",
       "   ORTSGR_KLS9  RELAT_AB  \n",
       "0          NaN       NaN  \n",
       "1          5.0       4.0  \n",
       "2          5.0       2.0  \n",
       "3          3.0       3.0  \n",
       "4          6.0       5.0  \n",
       "\n",
       "[5 rows x 85 columns]"
      ]
     },
     "execution_count": 3,
     "metadata": {},
     "output_type": "execute_result"
    }
   ],
   "source": [
    "# Display a first few rows\n",
    "azdias.head()"
   ]
  },
  {
   "cell_type": "markdown",
   "metadata": {},
   "source": [
    "Features seem to be encoded numerically, there are some `NaN` values."
   ]
  },
  {
   "cell_type": "code",
   "execution_count": 4,
   "metadata": {},
   "outputs": [
    {
     "data": {
      "text/html": [
       "<div>\n",
       "<style scoped>\n",
       "    .dataframe tbody tr th:only-of-type {\n",
       "        vertical-align: middle;\n",
       "    }\n",
       "\n",
       "    .dataframe tbody tr th {\n",
       "        vertical-align: top;\n",
       "    }\n",
       "\n",
       "    .dataframe thead th {\n",
       "        text-align: right;\n",
       "    }\n",
       "</style>\n",
       "<table border=\"1\" class=\"dataframe\">\n",
       "  <thead>\n",
       "    <tr style=\"text-align: right;\">\n",
       "      <th></th>\n",
       "      <th>attribute</th>\n",
       "      <th>information_level</th>\n",
       "      <th>type</th>\n",
       "      <th>missing_or_unknown</th>\n",
       "    </tr>\n",
       "  </thead>\n",
       "  <tbody>\n",
       "    <tr>\n",
       "      <th>0</th>\n",
       "      <td>AGER_TYP</td>\n",
       "      <td>person</td>\n",
       "      <td>categorical</td>\n",
       "      <td>[-1,0]</td>\n",
       "    </tr>\n",
       "    <tr>\n",
       "      <th>1</th>\n",
       "      <td>ALTERSKATEGORIE_GROB</td>\n",
       "      <td>person</td>\n",
       "      <td>ordinal</td>\n",
       "      <td>[-1,0,9]</td>\n",
       "    </tr>\n",
       "    <tr>\n",
       "      <th>2</th>\n",
       "      <td>ANREDE_KZ</td>\n",
       "      <td>person</td>\n",
       "      <td>categorical</td>\n",
       "      <td>[-1,0]</td>\n",
       "    </tr>\n",
       "    <tr>\n",
       "      <th>3</th>\n",
       "      <td>CJT_GESAMTTYP</td>\n",
       "      <td>person</td>\n",
       "      <td>categorical</td>\n",
       "      <td>[0]</td>\n",
       "    </tr>\n",
       "    <tr>\n",
       "      <th>4</th>\n",
       "      <td>FINANZ_MINIMALIST</td>\n",
       "      <td>person</td>\n",
       "      <td>ordinal</td>\n",
       "      <td>[-1]</td>\n",
       "    </tr>\n",
       "  </tbody>\n",
       "</table>\n",
       "</div>"
      ],
      "text/plain": [
       "              attribute information_level         type missing_or_unknown\n",
       "0              AGER_TYP            person  categorical             [-1,0]\n",
       "1  ALTERSKATEGORIE_GROB            person      ordinal           [-1,0,9]\n",
       "2             ANREDE_KZ            person  categorical             [-1,0]\n",
       "3         CJT_GESAMTTYP            person  categorical                [0]\n",
       "4     FINANZ_MINIMALIST            person      ordinal               [-1]"
      ]
     },
     "execution_count": 4,
     "metadata": {},
     "output_type": "execute_result"
    }
   ],
   "source": [
    "# Print a few info records about the features to see how it looks\n",
    "feat_info.head()"
   ]
  },
  {
   "cell_type": "markdown",
   "metadata": {},
   "source": [
    "Here are the codes for missing data. It looks like some of missing values were encoded with the values given here."
   ]
  },
  {
   "cell_type": "code",
   "execution_count": 5,
   "metadata": {
    "tags": []
   },
   "outputs": [
    {
     "name": "stdout",
     "output_type": "stream",
     "text": [
      "<class 'pandas.core.frame.DataFrame'>\n",
      "RangeIndex: 891221 entries, 0 to 891220\n",
      "Data columns (total 85 columns):\n",
      " #   Column                 Non-Null Count   Dtype  \n",
      "---  ------                 --------------   -----  \n",
      " 0   AGER_TYP               891221 non-null  int64  \n",
      " 1   ALTERSKATEGORIE_GROB   891221 non-null  int64  \n",
      " 2   ANREDE_KZ              891221 non-null  int64  \n",
      " 3   CJT_GESAMTTYP          886367 non-null  float64\n",
      " 4   FINANZ_MINIMALIST      891221 non-null  int64  \n",
      " 5   FINANZ_SPARER          891221 non-null  int64  \n",
      " 6   FINANZ_VORSORGER       891221 non-null  int64  \n",
      " 7   FINANZ_ANLEGER         891221 non-null  int64  \n",
      " 8   FINANZ_UNAUFFAELLIGER  891221 non-null  int64  \n",
      " 9   FINANZ_HAUSBAUER       891221 non-null  int64  \n",
      " 10  FINANZTYP              891221 non-null  int64  \n",
      " 11  GEBURTSJAHR            891221 non-null  int64  \n",
      " 12  GFK_URLAUBERTYP        886367 non-null  float64\n",
      " 13  GREEN_AVANTGARDE       891221 non-null  int64  \n",
      " 14  HEALTH_TYP             891221 non-null  int64  \n",
      " 15  LP_LEBENSPHASE_FEIN    886367 non-null  float64\n",
      " 16  LP_LEBENSPHASE_GROB    886367 non-null  float64\n",
      " 17  LP_FAMILIE_FEIN        886367 non-null  float64\n",
      " 18  LP_FAMILIE_GROB        886367 non-null  float64\n",
      " 19  LP_STATUS_FEIN         886367 non-null  float64\n",
      " 20  LP_STATUS_GROB         886367 non-null  float64\n",
      " 21  NATIONALITAET_KZ       891221 non-null  int64  \n",
      " 22  PRAEGENDE_JUGENDJAHRE  891221 non-null  int64  \n",
      " 23  RETOURTYP_BK_S         886367 non-null  float64\n",
      " 24  SEMIO_SOZ              891221 non-null  int64  \n",
      " 25  SEMIO_FAM              891221 non-null  int64  \n",
      " 26  SEMIO_REL              891221 non-null  int64  \n",
      " 27  SEMIO_MAT              891221 non-null  int64  \n",
      " 28  SEMIO_VERT             891221 non-null  int64  \n",
      " 29  SEMIO_LUST             891221 non-null  int64  \n",
      " 30  SEMIO_ERL              891221 non-null  int64  \n",
      " 31  SEMIO_KULT             891221 non-null  int64  \n",
      " 32  SEMIO_RAT              891221 non-null  int64  \n",
      " 33  SEMIO_KRIT             891221 non-null  int64  \n",
      " 34  SEMIO_DOM              891221 non-null  int64  \n",
      " 35  SEMIO_KAEM             891221 non-null  int64  \n",
      " 36  SEMIO_PFLICHT          891221 non-null  int64  \n",
      " 37  SEMIO_TRADV            891221 non-null  int64  \n",
      " 38  SHOPPER_TYP            891221 non-null  int64  \n",
      " 39  SOHO_KZ                817722 non-null  float64\n",
      " 40  TITEL_KZ               817722 non-null  float64\n",
      " 41  VERS_TYP               891221 non-null  int64  \n",
      " 42  ZABEOTYP               891221 non-null  int64  \n",
      " 43  ALTER_HH               817722 non-null  float64\n",
      " 44  ANZ_PERSONEN           817722 non-null  float64\n",
      " 45  ANZ_TITEL              817722 non-null  float64\n",
      " 46  HH_EINKOMMEN_SCORE     872873 non-null  float64\n",
      " 47  KK_KUNDENTYP           306609 non-null  float64\n",
      " 48  W_KEIT_KIND_HH         783619 non-null  float64\n",
      " 49  WOHNDAUER_2008         817722 non-null  float64\n",
      " 50  ANZ_HAUSHALTE_AKTIV    798073 non-null  float64\n",
      " 51  ANZ_HH_TITEL           794213 non-null  float64\n",
      " 52  GEBAEUDETYP            798073 non-null  float64\n",
      " 53  KONSUMNAEHE            817252 non-null  float64\n",
      " 54  MIN_GEBAEUDEJAHR       798073 non-null  float64\n",
      " 55  OST_WEST_KZ            798073 non-null  object \n",
      " 56  WOHNLAGE               798073 non-null  float64\n",
      " 57  CAMEO_DEUG_2015        792242 non-null  object \n",
      " 58  CAMEO_DEU_2015         792242 non-null  object \n",
      " 59  CAMEO_INTL_2015        792242 non-null  object \n",
      " 60  KBA05_ANTG1            757897 non-null  float64\n",
      " 61  KBA05_ANTG2            757897 non-null  float64\n",
      " 62  KBA05_ANTG3            757897 non-null  float64\n",
      " 63  KBA05_ANTG4            757897 non-null  float64\n",
      " 64  KBA05_BAUMAX           757897 non-null  float64\n",
      " 65  KBA05_GBZ              757897 non-null  float64\n",
      " 66  BALLRAUM               797481 non-null  float64\n",
      " 67  EWDICHTE               797481 non-null  float64\n",
      " 68  INNENSTADT             797481 non-null  float64\n",
      " 69  GEBAEUDETYP_RASTER     798066 non-null  float64\n",
      " 70  KKK                    770025 non-null  float64\n",
      " 71  MOBI_REGIO             757897 non-null  float64\n",
      " 72  ONLINE_AFFINITAET      886367 non-null  float64\n",
      " 73  REGIOTYP               770025 non-null  float64\n",
      " 74  KBA13_ANZAHL_PKW       785421 non-null  float64\n",
      " 75  PLZ8_ANTG1             774706 non-null  float64\n",
      " 76  PLZ8_ANTG2             774706 non-null  float64\n",
      " 77  PLZ8_ANTG3             774706 non-null  float64\n",
      " 78  PLZ8_ANTG4             774706 non-null  float64\n",
      " 79  PLZ8_BAUMAX            774706 non-null  float64\n",
      " 80  PLZ8_HHZ               774706 non-null  float64\n",
      " 81  PLZ8_GBZ               774706 non-null  float64\n",
      " 82  ARBEIT                 794005 non-null  float64\n",
      " 83  ORTSGR_KLS9            794005 non-null  float64\n",
      " 84  RELAT_AB               794005 non-null  float64\n",
      "dtypes: float64(49), int64(32), object(4)\n",
      "memory usage: 578.0+ MB\n"
     ]
    }
   ],
   "source": [
    "azdias.info()"
   ]
  },
  {
   "cell_type": "markdown",
   "metadata": {},
   "source": [
    "You can see that many columns contain missing data. Notice that 4 of them have the type `object`. It indicates that these columns are not numerical."
   ]
  },
  {
   "cell_type": "markdown",
   "metadata": {},
   "source": [
    "## Step 1: Preprocessing\n",
    "\n",
    "### Step 1.1: Assess missing data\n",
    "\n",
    "There are obvious missing values that are coded as `NaN` but as you had a chance to notice, there are also missing values that are encoded with a special value.\n",
    "\n",
    "#### Step 1.1.1: Convert missing value codes to NaNs\n",
    "\n",
    "Let's use the fourth column of `feat_info` to identify the codes for missing value for each column. What I want to do with it is to convert all these values to NaNs. This will make working with missing values much simpler."
   ]
  },
  {
   "cell_type": "code",
   "execution_count": 6,
   "metadata": {},
   "outputs": [
    {
     "data": {
      "text/plain": [
       "array(['[-1,0]', '[-1,0,9]', '[0]', '[-1]', '[]', '[-1,9]', '[-1,X]',\n",
       "       '[XX]', '[-1,XX]'], dtype=object)"
      ]
     },
     "execution_count": 6,
     "metadata": {},
     "output_type": "execute_result"
    }
   ],
   "source": [
    "# Display all possible entries in the missing_or_unknow column\n",
    "feat_info['missing_or_unknown'].unique()"
   ]
  },
  {
   "cell_type": "markdown",
   "metadata": {},
   "source": [
    "You can see that the code for missing data can be not only an int, but it also can be a string like 'X'.\n",
    "\n",
    "I notice even more. The column `missing_or_unknown` is coded as a string, but its values are actually arrays of integers. To be useful, they need to be parsed into what they are, arrays of integers (except values like 'X' that are really a string).\n",
    "\n",
    "Let's write a function that will parse these values."
   ]
  },
  {
   "cell_type": "code",
   "execution_count": 7,
   "metadata": {},
   "outputs": [],
   "source": [
    "# Helper function that tells if a string contains a digit\n",
    "def contains_integer(str_val):\n",
    "    return str_val.replace('-', '').isdigit()\n",
    "\n",
    "# Convert value of type '[-1,X]' into array like [-1, 'X'] and return it\n",
    "def get_missing_codes_array(str_val):\n",
    "    content = str_val.replace('[', '').replace(']', '')\n",
    "    if content == '':\n",
    "        array = [] # Default value for str_val representing empty list\n",
    "    else:\n",
    "        array = content.split(',') # Produce array\n",
    "    # Convert any number into int\n",
    "    for i in range(len(array)):\n",
    "        if contains_integer(array[i]):\n",
    "            array[i] = int(array[i])\n",
    "    return array"
   ]
  },
  {
   "cell_type": "markdown",
   "metadata": {},
   "source": [
    "Now I can do the actual conversion. I will write it as a function so I can use it later for the customer set."
   ]
  },
  {
   "cell_type": "code",
   "execution_count": 8,
   "metadata": {},
   "outputs": [],
   "source": [
    "# Identify missing or unknown data values and convert them to NaNs.\n",
    "def convert_missing_codes_to_NaNs(dataset):\n",
    "    for n in range(len(dataset.columns)):\n",
    "        missing_str_value = feat_info['missing_or_unknown'][n]\n",
    "        missing_codes_array = get_missing_codes_array(missing_str_value)\n",
    "        dataset.iloc[:, n] = dataset.iloc[:, n].apply(lambda x: np.nan if x in missing_codes_array else x)\n",
    "    \n",
    "# Do the conversion for general dataset\n",
    "convert_missing_codes_to_NaNs(azdias)"
   ]
  },
  {
   "cell_type": "markdown",
   "metadata": {},
   "source": [
    "#### Step 1.1.2: Assess missing data in each column\n",
    "\n",
    "Let's consider the number of missing data in each column and look for outliers and patterns."
   ]
  },
  {
   "cell_type": "code",
   "execution_count": 9,
   "metadata": {},
   "outputs": [
    {
     "data": {
      "text/plain": [
       "AGER_TYP                0.7696\n",
       "ALTERSKATEGORIE_GROB    0.0032\n",
       "ANREDE_KZ               0.0000\n",
       "CJT_GESAMTTYP           0.0054\n",
       "FINANZ_MINIMALIST       0.0000\n",
       "                         ...  \n",
       "PLZ8_HHZ                0.1307\n",
       "PLZ8_GBZ                0.1307\n",
       "ARBEIT                  0.1093\n",
       "ORTSGR_KLS9             0.1091\n",
       "RELAT_AB                0.1093\n",
       "Length: 85, dtype: float64"
      ]
     },
     "execution_count": 9,
     "metadata": {},
     "output_type": "execute_result"
    }
   ],
   "source": [
    "# Count proportion of missing values for each column\n",
    "def get_missing_column_counts(dataset):\n",
    "    missing = dataset.isna().sum()\n",
    "    missing = round(missing / len(dataset), 4)\n",
    "    return missing\n",
    "\n",
    "# Asses how much missing data there is in each column of the dataset\n",
    "get_missing_column_counts(azdias)"
   ]
  },
  {
   "cell_type": "markdown",
   "metadata": {},
   "source": [
    "Here you can see that if a variable contains missing values, there are a few variables that share the same number of missing values. It means that these groups of variables are associated with each other in some way, because they must be sharing the reason for the missing values.\n",
    "\n",
    "For example, variables starting with *PLZ8_* contain data about a wide neighborhood of a customer. So if for some reason the data about wide negihborhood couldn't be collected, there will be missing data among all variables describing the wide neighborhood."
   ]
  },
  {
   "cell_type": "code",
   "execution_count": 10,
   "metadata": {},
   "outputs": [
    {
     "data": {
      "text/plain": [
       "(array([4.59927355, 4.71720364, 0.        , 0.11793009, 0.11793009,\n",
       "        0.11793009, 0.11793009, 0.11793009, 0.        , 0.11793009]),\n",
       " array([0.     , 0.09976, 0.19952, 0.29928, 0.39904, 0.4988 , 0.59856,\n",
       "        0.69832, 0.79808, 0.89784, 0.9976 ]),\n",
       " <a list of 10 Patch objects>)"
      ]
     },
     "execution_count": 10,
     "metadata": {},
     "output_type": "execute_result"
    },
    {
     "data": {
      "image/png": "[encoded data removed]",
      "text/plain": [
       "<Figure size 432x288 with 1 Axes>"
      ]
     },
     "metadata": {
      "needs_background": "light"
     },
     "output_type": "display_data"
    }
   ],
   "source": [
    "# Plot a histogram with number of features on y-axis, proportion of missing values on x-axis\n",
    "plt.hist(get_missing_column_counts(azdias), density = True)"
   ]
  },
  {
   "cell_type": "markdown",
   "metadata": {},
   "source": [
    "From the histogram I can see that the vast majority of features have at most 20% missing values. So I can say that any feature that has more than 20% missing values is an outlier.\n",
    "\n",
    "Let's identify them."
   ]
  },
  {
   "cell_type": "code",
   "execution_count": 11,
   "metadata": {},
   "outputs": [
    {
     "name": "stdout",
     "output_type": "stream",
     "text": [
      "AGER_TYP        0.7696\n",
      "GEBURTSJAHR     0.4402\n",
      "TITEL_KZ        0.9976\n",
      "ALTER_HH        0.3481\n",
      "KK_KUNDENTYP    0.6560\n",
      "KBA05_BAUMAX    0.5347\n",
      "dtype: float64\n"
     ]
    }
   ],
   "source": [
    "# Identify outlier features\n",
    "def get_outlier_features(dataset, threshold = 0.2):\n",
    "    missing = get_missing_column_counts(dataset)\n",
    "    return missing.loc[missing > threshold]\n",
    "\n",
    "# Print the list of outlier features\n",
    "print(get_outlier_features(azdias))"
   ]
  },
  {
   "cell_type": "markdown",
   "metadata": {},
   "source": [
    "You can see that there are 6 outlier features that contain more than 20% missing values. I am going to drop them for further anaylsis.\n",
    "\n",
    "I want to keep the outliers in a variable, so I can remove them later from the consumer dataset."
   ]
  },
  {
   "cell_type": "code",
   "execution_count": 12,
   "metadata": {},
   "outputs": [],
   "source": [
    "# Store outlier features in a variable\n",
    "outlier_features = get_outlier_features(azdias)\n",
    "\n",
    "# Drop outlier features from the dataset\n",
    "def drop_outlier_features(dataset):\n",
    "    dataset.drop(outlier_features.index, axis = 1, inplace = True)\n",
    "\n",
    "# Actual drop\n",
    "drop_outlier_features(azdias)"
   ]
  },
  {
   "cell_type": "markdown",
   "metadata": {},
   "source": [
    "#### Step 1.1.3: Assess missing data in each row\n",
    "\n",
    "Now I'm going to perform a similar assessment for the rows of the dataset.\n",
    "\n",
    "But this time the outliers are observations, not the features that you can simply drop and forget. They actually form a population of outliers and it needs evaluation. If the distribution of the other features is the same between the regular subset and the outlier subset, then they can be dropped. But if you notice that other features are distributed differently in this group, then it means that they form a distinct population that should be analyzed separately.\n",
    "\n",
    "Let's see how missing data is distributed among observations."
   ]
  },
  {
   "cell_type": "code",
   "execution_count": 13,
   "metadata": {},
   "outputs": [
    {
     "data": {
      "text/plain": [
       "0         43\n",
       "1          0\n",
       "2          0\n",
       "3          7\n",
       "4          0\n",
       "          ..\n",
       "891216     3\n",
       "891217     4\n",
       "891218     5\n",
       "891219     0\n",
       "891220     0\n",
       "Length: 891221, dtype: int64"
      ]
     },
     "execution_count": 13,
     "metadata": {},
     "output_type": "execute_result"
    }
   ],
   "source": [
    "# Count proportion of missing features in each row\n",
    "def get_missing_row_counts(dataset):\n",
    "    return dataset.isnull().sum(axis = 1)\n",
    "\n",
    "# See the result\n",
    "get_missing_row_counts(azdias)"
   ]
  },
  {
   "cell_type": "markdown",
   "metadata": {},
   "source": [
    "Here I count the number of missing features for each row. Let's see it on the plot."
   ]
  },
  {
   "cell_type": "code",
   "execution_count": 14,
   "metadata": {},
   "outputs": [
    {
     "data": {
      "text/plain": [
       "<matplotlib.axes._subplots.AxesSubplot at 0x7efd99bc8410>"
      ]
     },
     "execution_count": 14,
     "metadata": {},
     "output_type": "execute_result"
    },
    {
     "data": {
      "image/png": "[encoded data removed]",
      "text/plain": [
       "<Figure size 1296x576 with 1 Axes>"
      ]
     },
     "metadata": {
      "needs_background": "light"
     },
     "output_type": "display_data"
    }
   ],
   "source": [
    "# Draw a histogram of number of missing features vs number of rows\n",
    "plt.figure(figsize = (18, 8))\n",
    "sns.countplot(get_missing_row_counts(azdias))"
   ]
  },
  {
   "cell_type": "markdown",
   "metadata": {},
   "source": [
    "On the histogram you can see that the majority of rows have at most 8 missing features. I will consider any row with more than 8 values as an outlier.\n",
    "\n",
    "Let's see how many of them is there."
   ]
  },
  {
   "cell_type": "code",
   "execution_count": 15,
   "metadata": {},
   "outputs": [
    {
     "data": {
      "text/plain": [
       "0         43\n",
       "11        47\n",
       "14        47\n",
       "17        47\n",
       "20        10\n",
       "          ..\n",
       "891173    19\n",
       "891175    47\n",
       "891185    47\n",
       "891187    47\n",
       "891203    14\n",
       "Length: 119520, dtype: int64"
      ]
     },
     "execution_count": 15,
     "metadata": {},
     "output_type": "execute_result"
    }
   ],
   "source": [
    "# Identify outliers\n",
    "def get_outlier_rows(dataset, threshold = 8):\n",
    "    missing = get_missing_row_counts(dataset)\n",
    "    return missing[missing > threshold]\n",
    "    \n",
    "# Count the number of them\n",
    "get_outlier_rows(azdias)"
   ]
  },
  {
   "cell_type": "markdown",
   "metadata": {},
   "source": [
    "Based on the threshold, 119 520 outlier rows have been identified."
   ]
  },
  {
   "cell_type": "code",
   "execution_count": 16,
   "metadata": {},
   "outputs": [],
   "source": [
    "# Split the dataset into outlier and regular rows\n",
    "def split_dataset_by_missing(dataset):\n",
    "    outlier_rows = dataset.iloc[get_outlier_rows(dataset)]\n",
    "    outlier_rows.index = get_outlier_rows(dataset).index\n",
    "    regular_rows = dataset.drop(get_outlier_rows(dataset).index)\n",
    "    return (regular_rows, outlier_rows)\n",
    "\n",
    "# Do the actual split\n",
    "regular_set, outlier_set = split_dataset_by_missing(azdias)"
   ]
  },
  {
   "cell_type": "code",
   "execution_count": 17,
   "metadata": {},
   "outputs": [
    {
     "name": "stdout",
     "output_type": "stream",
     "text": [
      "771701 + 119520 == 891221\n",
      "Is number of regular and outlier rows equal to that of general datset? True\n"
     ]
    }
   ],
   "source": [
    "# Test the split\n",
    "print('{} + {} == {}'.format(len(regular_set), len(outlier_set), len(azdias)))\n",
    "print('Is number of regular and outlier rows equal to that of general datset? {}'.format(\n",
    "      len(regular_set) + len(outlier_set) == len(azdias)\n",
    "    )\n",
    ")"
   ]
  },
  {
   "cell_type": "markdown",
   "metadata": {},
   "source": [
    "Dataset is now correctly splitted into outlier observations and regular observations. It is the time for test. \n",
    "\n",
    "I want to asses whether these sets are different or not. I'm going to do this by comparing distribution of values between them. I will take a sample of five non-outlier features."
   ]
  },
  {
   "cell_type": "code",
   "execution_count": 18,
   "metadata": {
    "scrolled": false
   },
   "outputs": [
    {
     "name": "stderr",
     "output_type": "stream",
     "text": [
      "/home/adam/anaconda3/lib/python3.7/site-packages/ipykernel_launcher.py:15: UserWarning: Matplotlib is currently using module://ipykernel.pylab.backend_inline, which is a non-GUI backend, so cannot show the figure.\n",
      "  from ipykernel import kernelapp as app\n"
     ]
    },
    {
     "data": {
      "image/png": "[encoded data removed]",
      "text/plain": [
       "<Figure size 1008x504 with 2 Axes>"
      ]
     },
     "metadata": {
      "needs_background": "light"
     },
     "output_type": "display_data"
    },
    {
     "data": {
      "image/png": "[encoded data removed]",
      "text/plain": [
       "<Figure size 1008x504 with 2 Axes>"
      ]
     },
     "metadata": {
      "needs_background": "light"
     },
     "output_type": "display_data"
    },
    {
     "data": {
      "image/png": "[encoded data removed]",
      "text/plain": [
       "<Figure size 1008x504 with 2 Axes>"
      ]
     },
     "metadata": {
      "needs_background": "light"
     },
     "output_type": "display_data"
    },
    {
     "data": {
      "image/png": "[encoded data removed]",
      "text/plain": [
       "<Figure size 1008x504 with 2 Axes>"
      ]
     },
     "metadata": {
      "needs_background": "light"
     },
     "output_type": "display_data"
    },
    {
     "data": {
      "image/png": "[encoded data removed]",
      "text/plain": [
       "<Figure size 1008x504 with 2 Axes>"
      ]
     },
     "metadata": {
      "needs_background": "light"
     },
     "output_type": "display_data"
    }
   ],
   "source": [
    "# Names of sample columns with no missing data\n",
    "missing = get_missing_column_counts(azdias)\n",
    "no_missing_column_names = [missing.index[i] for i in range(len(missing)) if missing[i] == 0]\n",
    "sample_5_column_names = pd.Series(no_missing_column_names).sample(5, random_state = 42)\n",
    "\n",
    "# Compare the distribution of values for at least five columns where there are\n",
    "# no or few missing values, between the two subsets.\n",
    "for column_name in sample_5_column_names:\n",
    "    fig, ax = plt.subplots(figsize = (14, 7), ncols = 2)\n",
    "    ax1 = sns.countplot(regular_set[column_name], ax = ax[0])\n",
    "    ax1.set_title('Distribution of {} in regular rows'.format(column_name))\n",
    "    ax2 = sns.countplot(outlier_set[column_name], ax = ax[1])\n",
    "    ax2.set_title('Distribution of {} in outlier rows'.format(column_name))\n",
    "\n",
    "    fig.show()"
   ]
  },
  {
   "cell_type": "markdown",
   "metadata": {},
   "source": [
    "You can see that the distribution of features looks different between the plots on the left side and the right side. If the distributions were similar, you would expect that bars would have the similar shape on both of them.\n",
    "\n",
    "Based on the plots I can say that outliers are a distinct group and I will get back to them later on in the analysis. For now, I will remove them from the dataset."
   ]
  },
  {
   "cell_type": "code",
   "execution_count": 19,
   "metadata": {},
   "outputs": [],
   "source": [
    "azdias.drop(outlier_set.index, inplace = True)"
   ]
  },
  {
   "cell_type": "markdown",
   "metadata": {},
   "source": [
    "### Step 1.2: Select and Re-Encode Features\n",
    "\n",
    "Algorithms work with numerical data and features that are not encoded numerically will need to be re-encoded. Let's take a look at the kinds of variables in the dataset:\n",
    "\n",
    "- numeric features\n",
    "\n",
    "    They need no action and can stay the way they are.\n",
    "\n",
    "\n",
    "- ordinal features\n",
    "\n",
    "    They are numeric but ordinal indicates that they are evenly spaced (not continous). It means that if a variable is of type 1 - 10, where 1 means 'completely disagree' and 10 means 'completely agree', value of 6.43 has no interpretation. However, you can always approximate 6.43 to 6 and say that it means 'slightly agree'. I'm going to make this simplifying assumption and treat them as numeric.\n",
    "\n",
    "\n",
    "- categorical features\n",
    "\n",
    "    They can be one-hot encoded (converted into a set of binary variables, each one for each category).\n",
    "\n",
    "\n",
    "- mixed features\n",
    "\n",
    "    They are of special kind. They can contain information about two or more features. You can re-encode them into a few separate variables if necessary.\n",
    "    \n",
    "\n",
    "Let's see how many variables of each kind are there. \n",
    "\n",
    "I'm going to take a look at only non-outlier features since I have removed them from the dataset already. At this point it makes sense to create a copy of `feat_info` that will include information only about non-outlier features. I will name it `reduced_feat_info` and will use it from now on."
   ]
  },
  {
   "cell_type": "code",
   "execution_count": 20,
   "metadata": {},
   "outputs": [
    {
     "name": "stdout",
     "output_type": "stream",
     "text": [
      "ordinal 49\n",
      "categorical 18\n",
      "mixed 6\n",
      "numeric 6\n"
     ]
    },
    {
     "data": {
      "text/plain": [
       "(array([49.,  0.,  0., 18.,  0.,  0.,  6.,  0.,  0.,  6.]),\n",
       " array([0. , 0.3, 0.6, 0.9, 1.2, 1.5, 1.8, 2.1, 2.4, 2.7, 3. ]),\n",
       " <a list of 10 Patch objects>)"
      ]
     },
     "execution_count": 20,
     "metadata": {},
     "output_type": "execute_result"
    },
    {
     "data": {
      "image/png": "[encoded data removed]",
      "text/plain": [
       "<Figure size 432x288 with 1 Axes>"
      ]
     },
     "metadata": {
      "needs_background": "light"
     },
     "output_type": "display_data"
    }
   ],
   "source": [
    "# Store a copy of reduced feat_info\n",
    "reduced_feat_info = feat_info.copy()\n",
    "for attribute in outlier_features.index:\n",
    "    reduced_feat_info = reduced_feat_info.loc[reduced_feat_info['attribute'] != attribute]\n",
    "\n",
    "# How many features are there of each data type?\n",
    "for x in reduced_feat_info['type'].unique():\n",
    "    print(x, sum(reduced_feat_info['type'] == x)) \n",
    "\n",
    "plt.hist(reduced_feat_info['type'])"
   ]
  },
  {
   "cell_type": "markdown",
   "metadata": {},
   "source": [
    "There are 18 categorical features that may need one-hot encoding and 6 mixed features that need further anaylsis."
   ]
  },
  {
   "cell_type": "markdown",
   "metadata": {},
   "source": [
    "#### Step 1.2.1: Re-Encode Categorical Features\n",
    "\n",
    "Categorical variables can be one of two types, binary or multi-level. Multi-level categorical variables need re-encoding. Binary variables need re-encoding only if they are not already encoded numerically.\n",
    "\n",
    "I'm going to take a closer look at them now."
   ]
  },
  {
   "cell_type": "code",
   "execution_count": 21,
   "metadata": {},
   "outputs": [
    {
     "name": "stdout",
     "output_type": "stream",
     "text": [
      "Binary variables:\n",
      "        column_name is_string\n",
      "0         ANREDE_KZ     False\n",
      "1  GREEN_AVANTGARDE     False\n",
      "2           SOHO_KZ     False\n",
      "3          VERS_TYP     False\n",
      "4       OST_WEST_KZ      True\n",
      "\n",
      "Number of multi-level variables: 13\n"
     ]
    }
   ],
   "source": [
    "# Extract categorical variables\n",
    "categorical_variable_names = reduced_feat_info.loc[reduced_feat_info['type'] == 'categorical']['attribute'].values\n",
    "\n",
    "# Split them into binary and multi-level\n",
    "binary = pd.DataFrame(columns = list(['column_name', 'is_string']))\n",
    "multi_level = []\n",
    "\n",
    "for column_name in categorical_variable_names:\n",
    "    unique_values = azdias[column_name].unique()\n",
    "    n_unique_values = len(unique_values)\n",
    "    \n",
    "    # correct for NaN\n",
    "    if (any(pd.isnull(unique_values))):\n",
    "        n_unique_values -= 1\n",
    "\n",
    "    if (n_unique_values == 2):\n",
    "        is_string = any([isinstance(x, str) for x in unique_values])\n",
    "        binary = binary.append({'column_name' : column_name, 'is_string' : is_string}, ignore_index = True)\n",
    "    else:\n",
    "        multi_level.append(column_name)\n",
    "\n",
    "# Print the results\n",
    "print(\"Binary variables:\")\n",
    "print(binary)\n",
    "print(\"\\nNumber of multi-level variables:\", len(multi_level))"
   ]
  },
  {
   "cell_type": "markdown",
   "metadata": {},
   "source": [
    "There is a one binary variable that needs re-encoding, *OST_WEST_KZ*.\n",
    "\n",
    "Fragment from data dictionary:\n",
    "```\n",
    "### 3.6. OST_WEST_KZ\n",
    "Building location via former East / West Germany (GDR / FRG)\n",
    "- -1: unknown\n",
    "-  O: East (GDR)\n",
    "-  W: West (FRG)\n",
    "```\n",
    "\n",
    "I'm going to encode it this way: 0 for the east and 1 for the west."
   ]
  },
  {
   "cell_type": "code",
   "execution_count": 22,
   "metadata": {},
   "outputs": [
    {
     "name": "stdout",
     "output_type": "stream",
     "text": [
      "['W' 'O']\n"
     ]
    }
   ],
   "source": [
    "# Reassuring about its values\n",
    "print(azdias['OST_WEST_KZ'].unique())"
   ]
  },
  {
   "cell_type": "markdown",
   "metadata": {},
   "source": [
    "Except for `NaN` values, it looks like not only `W` needs re-encoding. As you can see `0` is a string too and I'm going to encode it as a number as well."
   ]
  },
  {
   "cell_type": "code",
   "execution_count": 23,
   "metadata": {},
   "outputs": [],
   "source": [
    "# Re-encode OST_WEST_KZ\n",
    "def re_encode_ost_west_kz(dataset):\n",
    "    dataset['OST_WEST_KZ'].replace({'W': 1, 'O' : 0}, inplace = True)\n",
    "    \n",
    "re_encode_ost_west_kz(azdias)"
   ]
  },
  {
   "cell_type": "markdown",
   "metadata": {},
   "source": [
    "Binary variables are ready. Now I only need to apply one-hot encoding for multi-level ones.\n",
    "\n",
    "One-hot encoder assumes that data contains no missing values, so I will impute the missings first, with the most frequent value."
   ]
  },
  {
   "cell_type": "code",
   "execution_count": 24,
   "metadata": {},
   "outputs": [
    {
     "name": "stdout",
     "output_type": "stream",
     "text": [
      "Total number of variables: 194\n"
     ]
    }
   ],
   "source": [
    "# One-hot encode given variables, impute them first\n",
    "def one_hot_encode(dataset, variables):\n",
    "    # Impute variables with mode first\n",
    "    for class_name in variables:\n",
    "       dataset[class_name].fillna(dataset[class_name].value_counts().index[0], inplace = True)\n",
    "    # Re-encode variables using hot-one encoding\n",
    "    re_encoded = pd.get_dummies(dataset, columns = variables)\n",
    "    return re_encoded\n",
    "\n",
    "azdias = one_hot_encode(azdias, multi_level)\n",
    "print(\"Total number of variables:\", len(azdias.columns))"
   ]
  },
  {
   "cell_type": "markdown",
   "metadata": {},
   "source": [
    "You can see that on-hot encoding created many new variables in place of the orignal ones."
   ]
  },
  {
   "cell_type": "markdown",
   "metadata": {},
   "source": [
    "#### Step 1.2.2: Engineer Mixed-Type Features\n",
    "\n",
    "Now I'm going to look at the mixed type features and engineer new variables to replace them if needed."
   ]
  },
  {
   "cell_type": "code",
   "execution_count": 25,
   "metadata": {},
   "outputs": [
    {
     "name": "stdout",
     "output_type": "stream",
     "text": [
      "Mixed type variables:\n",
      "- LP_LEBENSPHASE_FEIN\n",
      "- LP_LEBENSPHASE_GROB\n",
      "- PRAEGENDE_JUGENDJAHRE\n",
      "- WOHNLAGE\n",
      "- CAMEO_INTL_2015\n",
      "- PLZ8_BAUMAX\n"
     ]
    }
   ],
   "source": [
    "# Extract mixed variables\n",
    "mixed = reduced_feat_info.loc[reduced_feat_info['type'] == 'mixed']['attribute'].values\n",
    "print(\"Mixed type variables:\")\n",
    "for var in mixed:\n",
    "    print(\"-\", var)"
   ]
  },
  {
   "cell_type": "markdown",
   "metadata": {},
   "source": [
    "##### Step 1.2.2.1: Engineer *LP_LEBENSPHASE_FEIN* and *LP_LEBENSPHASE_GROB*\n",
    "\n",
    "*LP_LEBENSPHASE_FEIN* and *LP_LEBENSPHASE_GROB* contain the same type of information. They measure life stage as a mix of two features - family state and the level of earnings. The difference is in the level of detail. The first one is more detailed and has about 40 different levels, while the latter is more concise and contains 12 levels.\n",
    "\n",
    "If I were to re-engineer them, I would split the information into two variables - family status and earning status. There are such variables in the dataset already. These are LP_FAMILIE_FEIN and LP_STATUS_GROB. Having this in mind, I will drop *LP_LEBENSPHASE_FEIN* and *LP_LEBENSPHASE_GROB* as redundant."
   ]
  },
  {
   "cell_type": "code",
   "execution_count": 26,
   "metadata": {},
   "outputs": [],
   "source": [
    "# Drop LP_LEBENSPHASE_FEIN and LP_LEBENSPHASE_GROB from the dataset\n",
    "def drop_lebensphase(dataset):\n",
    "    dataset.drop('LP_LEBENSPHASE_FEIN', axis = 1, inplace = True)\n",
    "    dataset.drop('LP_LEBENSPHASE_GROB', axis = 1, inplace = True)\n",
    "\n",
    "drop_lebensphase(azdias)"
   ]
  },
  {
   "cell_type": "markdown",
   "metadata": {},
   "source": [
    "##### Step 1.2.2.2: Engineer *PRAEGENDE_JUGENDJAHRE*\n",
    "\n",
    "Let's investigate the next one, *PRAEGENDE_JUGENDJAHRE*. This variable contains information about *Dominating movement of person's youth* which can be split into three variables, *generation*, *movement* and *nation*. Here are code values that I'm going to use.\n",
    "\n",
    "Dictionary for *generation*:\n",
    "```\n",
    "-  1: 40s - war years\n",
    "-  2: 40s - reconstruction years\n",
    "-  3: 50s - economic miracle\n",
    "-  4: 50s - milk bar / Individualisation\n",
    "-  5: 60s - economic miracle\n",
    "-  6: 60s - generation 68 / student protestors\n",
    "-  7: 60s - opponents to the building of the Wall\n",
    "-  8: 70s - family orientation\n",
    "-  9: 70s - peace movement\n",
    "- 10: 80s - Generation Golf\n",
    "- 11: 80s - ecological awareness\n",
    "- 12: 80s - FDJ / communist party youth organisation\n",
    "- 13: 80s - Swords into ploughshares\n",
    "- 14: 90s - digital media kids\n",
    "- 15: 90s - ecological awareness\n",
    "```\n",
    "Dictionary for *movement*:\n",
    "```\n",
    "- 0: Avantgarde\n",
    "- 1: Mainstream\n",
    "```\n",
    "Dictionary for *nation*:\n",
    "```\n",
    "- 0: East\n",
    "- 1: West\n",
    "- 2: East+West\n",
    "```"
   ]
  },
  {
   "cell_type": "code",
   "execution_count": 27,
   "metadata": {},
   "outputs": [],
   "source": [
    "# Enigneer new variables for PRAEGENDE_JUGENDJAHRE\n",
    "p_j_codes = {\n",
    "    1 : [ 1, 1, 2 ],\n",
    "    2 : [ 2, 0, 2 ],\n",
    "    3 : [ 3, 0, 2 ],\n",
    "    4 : [ 4, 0, 2 ],\n",
    "    5 : [ 5, 1, 2 ],\n",
    "    6 : [ 6, 0, 1 ],\n",
    "    7 : [ 7, 0, 0 ],\n",
    "    8 : [ 8, 1, 2 ],\n",
    "    9 : [ 9, 0, 2 ],\n",
    "    10 : [ 10, 1, 1 ],\n",
    "    11 : [ 11, 0, 1 ],\n",
    "    12 : [ 12, 1, 0 ],\n",
    "    13 : [ 13, 0, 0 ],\n",
    "    14 : [ 14, 1, 2 ],\n",
    "    15 : [ 15, 0, 2]\n",
    "}\n",
    "\n",
    "generation = azdias['PRAEGENDE_JUGENDJAHRE'].apply(lambda x: p_j_codes.get(x)[0] if not pd.isnull(x) else x)\n",
    "movement = azdias['PRAEGENDE_JUGENDJAHRE'].apply(lambda x: p_j_codes.get(x)[1] if not pd.isnull(x) else x)\n",
    "nation = azdias['PRAEGENDE_JUGENDJAHRE'].apply(lambda x: p_j_codes.get(x)[2] if not pd.isnull(x) else x)"
   ]
  },
  {
   "cell_type": "markdown",
   "metadata": {},
   "source": [
    "Let's examine the 3 new variables."
   ]
  },
  {
   "cell_type": "code",
   "execution_count": 28,
   "metadata": {},
   "outputs": [
    {
     "data": {
      "text/plain": [
       "<matplotlib.axes._subplots.AxesSubplot at 0x7efd9b4d1650>"
      ]
     },
     "execution_count": 28,
     "metadata": {},
     "output_type": "execute_result"
    },
    {
     "data": {
      "image/png": "[encoded data removed]",
      "text/plain": [
       "<Figure size 432x288 with 1 Axes>"
      ]
     },
     "metadata": {
      "needs_background": "light"
     },
     "output_type": "display_data"
    }
   ],
   "source": [
    "sns.countplot(generation)"
   ]
  },
  {
   "cell_type": "code",
   "execution_count": 29,
   "metadata": {},
   "outputs": [
    {
     "data": {
      "text/plain": [
       "<matplotlib.axes._subplots.AxesSubplot at 0x7efd9b3c68d0>"
      ]
     },
     "execution_count": 29,
     "metadata": {},
     "output_type": "execute_result"
    },
    {
     "data": {
      "image/png": "[encoded data removed]",
      "text/plain": [
       "<Figure size 432x288 with 1 Axes>"
      ]
     },
     "metadata": {
      "needs_background": "light"
     },
     "output_type": "display_data"
    }
   ],
   "source": [
    "sns.countplot(movement)"
   ]
  },
  {
   "cell_type": "code",
   "execution_count": 30,
   "metadata": {},
   "outputs": [
    {
     "data": {
      "text/plain": [
       "<matplotlib.axes._subplots.AxesSubplot at 0x7efd9b54b5d0>"
      ]
     },
     "execution_count": 30,
     "metadata": {},
     "output_type": "execute_result"
    },
    {
     "data": {
      "image/png": "[encoded data removed]",
      "text/plain": [
       "<Figure size 432x288 with 1 Axes>"
      ]
     },
     "metadata": {
      "needs_background": "light"
     },
     "output_type": "display_data"
    }
   ],
   "source": [
    "sns.countplot(nation)"
   ]
  },
  {
   "cell_type": "markdown",
   "metadata": {},
   "source": [
    "Out of three new variables, *nation* doesn't seem to be very informative as most of the people belong to *EW* nation. I will drop it.\n",
    "\n",
    "Now I can write a function for this for future use and apply the changes to the dataset."
   ]
  },
  {
   "cell_type": "code",
   "execution_count": 31,
   "metadata": {},
   "outputs": [
    {
     "data": {
      "text/html": [
       "<div>\n",
       "<style scoped>\n",
       "    .dataframe tbody tr th:only-of-type {\n",
       "        vertical-align: middle;\n",
       "    }\n",
       "\n",
       "    .dataframe tbody tr th {\n",
       "        vertical-align: top;\n",
       "    }\n",
       "\n",
       "    .dataframe thead th {\n",
       "        text-align: right;\n",
       "    }\n",
       "</style>\n",
       "<table border=\"1\" class=\"dataframe\">\n",
       "  <thead>\n",
       "    <tr style=\"text-align: right;\">\n",
       "      <th></th>\n",
       "      <th>ALTERSKATEGORIE_GROB</th>\n",
       "      <th>ANREDE_KZ</th>\n",
       "      <th>FINANZ_MINIMALIST</th>\n",
       "      <th>FINANZ_SPARER</th>\n",
       "      <th>FINANZ_VORSORGER</th>\n",
       "      <th>FINANZ_ANLEGER</th>\n",
       "      <th>FINANZ_UNAUFFAELLIGER</th>\n",
       "      <th>FINANZ_HAUSBAUER</th>\n",
       "      <th>GREEN_AVANTGARDE</th>\n",
       "      <th>HEALTH_TYP</th>\n",
       "      <th>...</th>\n",
       "      <th>CAMEO_DEU_2015_8B</th>\n",
       "      <th>CAMEO_DEU_2015_8C</th>\n",
       "      <th>CAMEO_DEU_2015_8D</th>\n",
       "      <th>CAMEO_DEU_2015_9A</th>\n",
       "      <th>CAMEO_DEU_2015_9B</th>\n",
       "      <th>CAMEO_DEU_2015_9C</th>\n",
       "      <th>CAMEO_DEU_2015_9D</th>\n",
       "      <th>CAMEO_DEU_2015_9E</th>\n",
       "      <th>generation</th>\n",
       "      <th>movement</th>\n",
       "    </tr>\n",
       "  </thead>\n",
       "  <tbody>\n",
       "    <tr>\n",
       "      <th>1</th>\n",
       "      <td>1.0</td>\n",
       "      <td>2</td>\n",
       "      <td>1</td>\n",
       "      <td>5</td>\n",
       "      <td>2</td>\n",
       "      <td>5</td>\n",
       "      <td>4</td>\n",
       "      <td>5</td>\n",
       "      <td>0</td>\n",
       "      <td>3.0</td>\n",
       "      <td>...</td>\n",
       "      <td>0</td>\n",
       "      <td>0</td>\n",
       "      <td>0</td>\n",
       "      <td>0</td>\n",
       "      <td>0</td>\n",
       "      <td>0</td>\n",
       "      <td>0</td>\n",
       "      <td>0</td>\n",
       "      <td>14.0</td>\n",
       "      <td>1.0</td>\n",
       "    </tr>\n",
       "    <tr>\n",
       "      <th>2</th>\n",
       "      <td>3.0</td>\n",
       "      <td>2</td>\n",
       "      <td>1</td>\n",
       "      <td>4</td>\n",
       "      <td>1</td>\n",
       "      <td>2</td>\n",
       "      <td>3</td>\n",
       "      <td>5</td>\n",
       "      <td>1</td>\n",
       "      <td>3.0</td>\n",
       "      <td>...</td>\n",
       "      <td>0</td>\n",
       "      <td>0</td>\n",
       "      <td>0</td>\n",
       "      <td>0</td>\n",
       "      <td>0</td>\n",
       "      <td>0</td>\n",
       "      <td>0</td>\n",
       "      <td>0</td>\n",
       "      <td>15.0</td>\n",
       "      <td>0.0</td>\n",
       "    </tr>\n",
       "    <tr>\n",
       "      <th>3</th>\n",
       "      <td>4.0</td>\n",
       "      <td>2</td>\n",
       "      <td>4</td>\n",
       "      <td>2</td>\n",
       "      <td>5</td>\n",
       "      <td>2</td>\n",
       "      <td>1</td>\n",
       "      <td>2</td>\n",
       "      <td>0</td>\n",
       "      <td>2.0</td>\n",
       "      <td>...</td>\n",
       "      <td>0</td>\n",
       "      <td>0</td>\n",
       "      <td>0</td>\n",
       "      <td>0</td>\n",
       "      <td>0</td>\n",
       "      <td>0</td>\n",
       "      <td>0</td>\n",
       "      <td>0</td>\n",
       "      <td>8.0</td>\n",
       "      <td>1.0</td>\n",
       "    </tr>\n",
       "    <tr>\n",
       "      <th>4</th>\n",
       "      <td>3.0</td>\n",
       "      <td>1</td>\n",
       "      <td>4</td>\n",
       "      <td>3</td>\n",
       "      <td>4</td>\n",
       "      <td>1</td>\n",
       "      <td>3</td>\n",
       "      <td>2</td>\n",
       "      <td>0</td>\n",
       "      <td>3.0</td>\n",
       "      <td>...</td>\n",
       "      <td>0</td>\n",
       "      <td>0</td>\n",
       "      <td>0</td>\n",
       "      <td>0</td>\n",
       "      <td>0</td>\n",
       "      <td>0</td>\n",
       "      <td>0</td>\n",
       "      <td>0</td>\n",
       "      <td>8.0</td>\n",
       "      <td>1.0</td>\n",
       "    </tr>\n",
       "    <tr>\n",
       "      <th>5</th>\n",
       "      <td>1.0</td>\n",
       "      <td>2</td>\n",
       "      <td>3</td>\n",
       "      <td>1</td>\n",
       "      <td>5</td>\n",
       "      <td>2</td>\n",
       "      <td>2</td>\n",
       "      <td>5</td>\n",
       "      <td>0</td>\n",
       "      <td>3.0</td>\n",
       "      <td>...</td>\n",
       "      <td>0</td>\n",
       "      <td>1</td>\n",
       "      <td>0</td>\n",
       "      <td>0</td>\n",
       "      <td>0</td>\n",
       "      <td>0</td>\n",
       "      <td>0</td>\n",
       "      <td>0</td>\n",
       "      <td>3.0</td>\n",
       "      <td>0.0</td>\n",
       "    </tr>\n",
       "    <tr>\n",
       "      <th>...</th>\n",
       "      <td>...</td>\n",
       "      <td>...</td>\n",
       "      <td>...</td>\n",
       "      <td>...</td>\n",
       "      <td>...</td>\n",
       "      <td>...</td>\n",
       "      <td>...</td>\n",
       "      <td>...</td>\n",
       "      <td>...</td>\n",
       "      <td>...</td>\n",
       "      <td>...</td>\n",
       "      <td>...</td>\n",
       "      <td>...</td>\n",
       "      <td>...</td>\n",
       "      <td>...</td>\n",
       "      <td>...</td>\n",
       "      <td>...</td>\n",
       "      <td>...</td>\n",
       "      <td>...</td>\n",
       "      <td>...</td>\n",
       "      <td>...</td>\n",
       "    </tr>\n",
       "    <tr>\n",
       "      <th>891216</th>\n",
       "      <td>3.0</td>\n",
       "      <td>2</td>\n",
       "      <td>1</td>\n",
       "      <td>4</td>\n",
       "      <td>2</td>\n",
       "      <td>5</td>\n",
       "      <td>4</td>\n",
       "      <td>4</td>\n",
       "      <td>0</td>\n",
       "      <td>3.0</td>\n",
       "      <td>...</td>\n",
       "      <td>0</td>\n",
       "      <td>0</td>\n",
       "      <td>0</td>\n",
       "      <td>0</td>\n",
       "      <td>0</td>\n",
       "      <td>0</td>\n",
       "      <td>0</td>\n",
       "      <td>0</td>\n",
       "      <td>14.0</td>\n",
       "      <td>1.0</td>\n",
       "    </tr>\n",
       "    <tr>\n",
       "      <th>891217</th>\n",
       "      <td>2.0</td>\n",
       "      <td>1</td>\n",
       "      <td>3</td>\n",
       "      <td>3</td>\n",
       "      <td>3</td>\n",
       "      <td>2</td>\n",
       "      <td>2</td>\n",
       "      <td>3</td>\n",
       "      <td>0</td>\n",
       "      <td>NaN</td>\n",
       "      <td>...</td>\n",
       "      <td>0</td>\n",
       "      <td>0</td>\n",
       "      <td>0</td>\n",
       "      <td>0</td>\n",
       "      <td>0</td>\n",
       "      <td>0</td>\n",
       "      <td>1</td>\n",
       "      <td>0</td>\n",
       "      <td>10.0</td>\n",
       "      <td>1.0</td>\n",
       "    </tr>\n",
       "    <tr>\n",
       "      <th>891218</th>\n",
       "      <td>2.0</td>\n",
       "      <td>2</td>\n",
       "      <td>2</td>\n",
       "      <td>4</td>\n",
       "      <td>2</td>\n",
       "      <td>5</td>\n",
       "      <td>4</td>\n",
       "      <td>3</td>\n",
       "      <td>0</td>\n",
       "      <td>1.0</td>\n",
       "      <td>...</td>\n",
       "      <td>0</td>\n",
       "      <td>0</td>\n",
       "      <td>0</td>\n",
       "      <td>0</td>\n",
       "      <td>0</td>\n",
       "      <td>0</td>\n",
       "      <td>0</td>\n",
       "      <td>0</td>\n",
       "      <td>14.0</td>\n",
       "      <td>1.0</td>\n",
       "    </tr>\n",
       "    <tr>\n",
       "      <th>891219</th>\n",
       "      <td>1.0</td>\n",
       "      <td>1</td>\n",
       "      <td>1</td>\n",
       "      <td>5</td>\n",
       "      <td>3</td>\n",
       "      <td>5</td>\n",
       "      <td>5</td>\n",
       "      <td>5</td>\n",
       "      <td>0</td>\n",
       "      <td>1.0</td>\n",
       "      <td>...</td>\n",
       "      <td>0</td>\n",
       "      <td>0</td>\n",
       "      <td>0</td>\n",
       "      <td>0</td>\n",
       "      <td>0</td>\n",
       "      <td>0</td>\n",
       "      <td>1</td>\n",
       "      <td>0</td>\n",
       "      <td>14.0</td>\n",
       "      <td>1.0</td>\n",
       "    </tr>\n",
       "    <tr>\n",
       "      <th>891220</th>\n",
       "      <td>4.0</td>\n",
       "      <td>1</td>\n",
       "      <td>4</td>\n",
       "      <td>2</td>\n",
       "      <td>5</td>\n",
       "      <td>2</td>\n",
       "      <td>1</td>\n",
       "      <td>5</td>\n",
       "      <td>0</td>\n",
       "      <td>2.0</td>\n",
       "      <td>...</td>\n",
       "      <td>0</td>\n",
       "      <td>0</td>\n",
       "      <td>0</td>\n",
       "      <td>0</td>\n",
       "      <td>0</td>\n",
       "      <td>0</td>\n",
       "      <td>0</td>\n",
       "      <td>0</td>\n",
       "      <td>3.0</td>\n",
       "      <td>0.0</td>\n",
       "    </tr>\n",
       "  </tbody>\n",
       "</table>\n",
       "<p>771701 rows × 193 columns</p>\n",
       "</div>"
      ],
      "text/plain": [
       "        ALTERSKATEGORIE_GROB  ANREDE_KZ  FINANZ_MINIMALIST  FINANZ_SPARER  \\\n",
       "1                        1.0          2                  1              5   \n",
       "2                        3.0          2                  1              4   \n",
       "3                        4.0          2                  4              2   \n",
       "4                        3.0          1                  4              3   \n",
       "5                        1.0          2                  3              1   \n",
       "...                      ...        ...                ...            ...   \n",
       "891216                   3.0          2                  1              4   \n",
       "891217                   2.0          1                  3              3   \n",
       "891218                   2.0          2                  2              4   \n",
       "891219                   1.0          1                  1              5   \n",
       "891220                   4.0          1                  4              2   \n",
       "\n",
       "        FINANZ_VORSORGER  FINANZ_ANLEGER  FINANZ_UNAUFFAELLIGER  \\\n",
       "1                      2               5                      4   \n",
       "2                      1               2                      3   \n",
       "3                      5               2                      1   \n",
       "4                      4               1                      3   \n",
       "5                      5               2                      2   \n",
       "...                  ...             ...                    ...   \n",
       "891216                 2               5                      4   \n",
       "891217                 3               2                      2   \n",
       "891218                 2               5                      4   \n",
       "891219                 3               5                      5   \n",
       "891220                 5               2                      1   \n",
       "\n",
       "        FINANZ_HAUSBAUER  GREEN_AVANTGARDE  HEALTH_TYP  ...  \\\n",
       "1                      5                 0         3.0  ...   \n",
       "2                      5                 1         3.0  ...   \n",
       "3                      2                 0         2.0  ...   \n",
       "4                      2                 0         3.0  ...   \n",
       "5                      5                 0         3.0  ...   \n",
       "...                  ...               ...         ...  ...   \n",
       "891216                 4                 0         3.0  ...   \n",
       "891217                 3                 0         NaN  ...   \n",
       "891218                 3                 0         1.0  ...   \n",
       "891219                 5                 0         1.0  ...   \n",
       "891220                 5                 0         2.0  ...   \n",
       "\n",
       "        CAMEO_DEU_2015_8B  CAMEO_DEU_2015_8C  CAMEO_DEU_2015_8D  \\\n",
       "1                       0                  0                  0   \n",
       "2                       0                  0                  0   \n",
       "3                       0                  0                  0   \n",
       "4                       0                  0                  0   \n",
       "5                       0                  1                  0   \n",
       "...                   ...                ...                ...   \n",
       "891216                  0                  0                  0   \n",
       "891217                  0                  0                  0   \n",
       "891218                  0                  0                  0   \n",
       "891219                  0                  0                  0   \n",
       "891220                  0                  0                  0   \n",
       "\n",
       "        CAMEO_DEU_2015_9A  CAMEO_DEU_2015_9B  CAMEO_DEU_2015_9C  \\\n",
       "1                       0                  0                  0   \n",
       "2                       0                  0                  0   \n",
       "3                       0                  0                  0   \n",
       "4                       0                  0                  0   \n",
       "5                       0                  0                  0   \n",
       "...                   ...                ...                ...   \n",
       "891216                  0                  0                  0   \n",
       "891217                  0                  0                  0   \n",
       "891218                  0                  0                  0   \n",
       "891219                  0                  0                  0   \n",
       "891220                  0                  0                  0   \n",
       "\n",
       "        CAMEO_DEU_2015_9D  CAMEO_DEU_2015_9E  generation  movement  \n",
       "1                       0                  0        14.0       1.0  \n",
       "2                       0                  0        15.0       0.0  \n",
       "3                       0                  0         8.0       1.0  \n",
       "4                       0                  0         8.0       1.0  \n",
       "5                       0                  0         3.0       0.0  \n",
       "...                   ...                ...         ...       ...  \n",
       "891216                  0                  0        14.0       1.0  \n",
       "891217                  1                  0        10.0       1.0  \n",
       "891218                  0                  0        14.0       1.0  \n",
       "891219                  1                  0        14.0       1.0  \n",
       "891220                  0                  0         3.0       0.0  \n",
       "\n",
       "[771701 rows x 193 columns]"
      ]
     },
     "execution_count": 31,
     "metadata": {},
     "output_type": "execute_result"
    }
   ],
   "source": [
    "# Enigneer new variables for PRAEGENDE_JUGENDJAHRE in the dataset\n",
    "def re_engineer_pj(dataset):    \n",
    "    p_j_codes = {\n",
    "        1 : [ 1, 1 ],\n",
    "        2 : [ 2, 0 ],\n",
    "        3 : [ 3, 0 ],\n",
    "        4 : [ 4, 0 ],\n",
    "        5 : [ 5, 1 ],\n",
    "        6 : [ 6, 0 ],\n",
    "        7 : [ 7, 0 ],\n",
    "        8 : [ 8, 1 ],\n",
    "        9 : [ 9, 0 ],\n",
    "        10 : [ 10, 1 ],\n",
    "        11 : [ 11, 0 ],\n",
    "        12 : [ 12, 1 ],\n",
    "        13 : [ 13, 0 ],\n",
    "        14 : [ 14, 1 ],\n",
    "        15 : [ 15, 0 ]\n",
    "    }\n",
    "    \n",
    "    generation = dataset['PRAEGENDE_JUGENDJAHRE'].apply(lambda x: p_j_codes.get(x)[0] if not pd.isnull(x) else x)\n",
    "    movement = dataset['PRAEGENDE_JUGENDJAHRE'].apply(lambda x: p_j_codes.get(x)[1] if not pd.isnull(x) else x)\n",
    "\n",
    "    dataset.drop('PRAEGENDE_JUGENDJAHRE', axis = 1, inplace = True)\n",
    "    dataset.insert(len(dataset.columns), 'generation', generation)\n",
    "    dataset.insert(len(dataset.columns), 'movement', movement)\n",
    "    \n",
    "    return dataset\n",
    "\n",
    "re_engineer_pj(azdias)"
   ]
  },
  {
   "cell_type": "markdown",
   "metadata": {},
   "source": [
    "##### Step 1.2.2.3: Engineer *WOHNLAGE*\n",
    "\n",
    "Now is the time for next variable, *WOHNLAGE*. It contains information about the quality of neigborhood or information that it is a building in new or old rural neighborhood. I'm going to split it into two variables in the following way.\n",
    "\n",
    "Dictionary for *negihborhood_quality*:\n",
    "```\n",
    "- 0: no score calculated\n",
    "- 1: very good neighborhood\n",
    "- 2: good neighborhood\n",
    "- 3: average neighborhood\n",
    "- 4: poor neighborhood\n",
    "- 5: very poor neighborhood\n",
    "```\n",
    "\n",
    "Dictionary for *rural_neighborhood*:\n",
    "```\n",
    "- 0: no score calculated\n",
    "- 1: rural neighborhood\n",
    "- 2: new building in rural neighborhood\n",
    "```"
   ]
  },
  {
   "cell_type": "code",
   "execution_count": 32,
   "metadata": {},
   "outputs": [],
   "source": [
    "# Engineer new variables for WOHNLAGE\n",
    "wohnlage_codes = {\n",
    "    0 : [ 0, 0 ],\n",
    "    1 : [ 1, 0 ],\n",
    "    2 : [ 2, 0 ],\n",
    "    3 : [ 3, 0 ],\n",
    "    4 : [ 4, 0 ],\n",
    "    5 : [ 5, 0 ],\n",
    "    7 : [ 0, 1 ],\n",
    "    8 : [ 0, 2 ],\n",
    "}\n",
    "\n",
    "neighborhood_quality = azdias['WOHNLAGE'].apply(\n",
    "    lambda x: wohnlage_codes.get(x)[0] if not pd.isnull(x) else x\n",
    ")\n",
    "rural_neighborhood = azdias['WOHNLAGE'].apply(\n",
    "    lambda x: wohnlage_codes.get(x)[1] if not pd.isnull(x) else x\n",
    ")"
   ]
  },
  {
   "cell_type": "markdown",
   "metadata": {},
   "source": [
    "Now that I have engineered two new variables, let's see their distributions."
   ]
  },
  {
   "cell_type": "code",
   "execution_count": 33,
   "metadata": {},
   "outputs": [
    {
     "data": {
      "text/plain": [
       "<matplotlib.axes._subplots.AxesSubplot at 0x7efd9b4b5a10>"
      ]
     },
     "execution_count": 33,
     "metadata": {},
     "output_type": "execute_result"
    },
    {
     "data": {
      "image/png": "[encoded data removed]",
      "text/plain": [
       "<Figure size 432x288 with 1 Axes>"
      ]
     },
     "metadata": {
      "needs_background": "light"
     },
     "output_type": "display_data"
    }
   ],
   "source": [
    "# Investigate new variables\n",
    "sns.countplot(neighborhood_quality)"
   ]
  },
  {
   "cell_type": "code",
   "execution_count": 34,
   "metadata": {},
   "outputs": [
    {
     "data": {
      "text/plain": [
       "<matplotlib.axes._subplots.AxesSubplot at 0x7efd9b685090>"
      ]
     },
     "execution_count": 34,
     "metadata": {},
     "output_type": "execute_result"
    },
    {
     "data": {
      "image/png": "[encoded data removed]",
      "text/plain": [
       "<Figure size 432x288 with 1 Axes>"
      ]
     },
     "metadata": {
      "needs_background": "light"
     },
     "output_type": "display_data"
    }
   ],
   "source": [
    "sns.countplot(rural_neighborhood)"
   ]
  },
  {
   "cell_type": "markdown",
   "metadata": {},
   "source": [
    "You can see that the value 2 for *rural_neighborhood* is very rare. I'm going to change its coding and make it a binary variable, so the categories 1 and 2 will be merged together.\n",
    "\n",
    "Dictionary for *rural_neighborhood*:\n",
    "```\n",
    "-  0: no score calculated\n",
    "-  1: rural neighborhood\n",
    "```\n",
    "\n",
    "Let's write a function for this and apply the changes to the dataset."
   ]
  },
  {
   "cell_type": "code",
   "execution_count": 35,
   "metadata": {},
   "outputs": [],
   "source": [
    "# Engineer new variables for WOHNLAGE in the dataset\n",
    "def re_engineer_wohnlage(dataset):\n",
    "    wohnlage_codes = {\n",
    "        0 : [ 0, 0 ],\n",
    "        1 : [ 1, 0 ],\n",
    "        2 : [ 2, 0 ],\n",
    "        3 : [ 3, 0 ],\n",
    "        4 : [ 4, 0 ],\n",
    "        5 : [ 5, 0 ],\n",
    "        7 : [ 0, 1 ],\n",
    "        8 : [ 0, 1 ],\n",
    "    }\n",
    "\n",
    "    neighborhood_quality = dataset['WOHNLAGE'].apply(\n",
    "        lambda x: wohnlage_codes.get(x)[0] if not pd.isnull(x) else x\n",
    "    )\n",
    "    rural_neighborhood = dataset['WOHNLAGE'].apply(\n",
    "        lambda x: wohnlage_codes.get(x)[1] if not pd.isnull(x) else x\n",
    "    )\n",
    "    \n",
    "    dataset.drop('WOHNLAGE', axis = 1, inplace = True)\n",
    "    dataset.insert(len(dataset.columns), 'neighborhood_quality', neighborhood_quality)\n",
    "    dataset.insert(len(dataset.columns), 'rural_neighborhood', rural_neighborhood)\n",
    "    \n",
    "re_engineer_wohnlage(azdias)"
   ]
  },
  {
   "cell_type": "markdown",
   "metadata": {},
   "source": [
    "##### Step 1.2.2.4: Engineer *CAMEO_INTL_2015*\n",
    "\n",
    "Now I will look at *CAMEO_INTL_2015*. It contains information about household wealth and family stage. I am going to create two new variables in place of it.\n",
    "\n",
    "Dictionary for *household_wealth*:\n",
    "```\n",
    "- 1: Wealthy Households\n",
    "- 2: Prosperous Households\n",
    "- 3: Comfortable Households\n",
    "- 4: Less Affluent Households\n",
    "- 5: Poorer Households\n",
    "```\n",
    "Dictionary for *family_stage*:\n",
    "```\n",
    "- 1: Pre-Family Couples & Singles\n",
    "- 2: Young Couples With Children\n",
    "- 3: Families With School Age Children\n",
    "- 4: Older Families &  Mature Couples\n",
    "- 5: Elders In Retirement\n",
    "```"
   ]
  },
  {
   "cell_type": "code",
   "execution_count": 36,
   "metadata": {},
   "outputs": [],
   "source": [
    "# Enigneer new variables for CAMEO_INTL_2015\n",
    "household_wealth = azdias['CAMEO_INTL_2015'].apply(lambda x: int(x[0]) if not pd.isnull(x) else x)\n",
    "family_stage = azdias['CAMEO_INTL_2015'].apply(lambda x: int(x[1]) if not pd.isnull(x) else x)"
   ]
  },
  {
   "cell_type": "markdown",
   "metadata": {},
   "source": [
    "Let's see the distributions of these new features."
   ]
  },
  {
   "cell_type": "code",
   "execution_count": 37,
   "metadata": {},
   "outputs": [
    {
     "data": {
      "text/plain": [
       "<matplotlib.axes._subplots.AxesSubplot at 0x7efd9b57f990>"
      ]
     },
     "execution_count": 37,
     "metadata": {},
     "output_type": "execute_result"
    },
    {
     "data": {
      "image/png": "[encoded data removed]",
      "text/plain": [
       "<Figure size 432x288 with 1 Axes>"
      ]
     },
     "metadata": {
      "needs_background": "light"
     },
     "output_type": "display_data"
    }
   ],
   "source": [
    "sns.countplot(household_wealth)"
   ]
  },
  {
   "cell_type": "code",
   "execution_count": 38,
   "metadata": {},
   "outputs": [
    {
     "data": {
      "text/plain": [
       "<matplotlib.axes._subplots.AxesSubplot at 0x7efd9b5f23d0>"
      ]
     },
     "execution_count": 38,
     "metadata": {},
     "output_type": "execute_result"
    },
    {
     "data": {
      "image/png": "[encoded data removed]",
      "text/plain": [
       "<Figure size 432x288 with 1 Axes>"
      ]
     },
     "metadata": {
      "needs_background": "light"
     },
     "output_type": "display_data"
    }
   ],
   "source": [
    "sns.countplot(family_stage)"
   ]
  },
  {
   "cell_type": "markdown",
   "metadata": {},
   "source": [
    "Both features look good and diffrentiating and I'm going to apply the changes to the data."
   ]
  },
  {
   "cell_type": "code",
   "execution_count": 39,
   "metadata": {},
   "outputs": [],
   "source": [
    "# Enigneer new variables for CAMEO_INTL_2015 in the dataset\n",
    "def re_engineer_cameo(dataset):\n",
    "    household_wealth = dataset['CAMEO_INTL_2015'].apply(lambda x: int(x[0]) if not pd.isnull(x) else x)\n",
    "    family_stage = dataset['CAMEO_INTL_2015'].apply(lambda x: int(x[1]) if not pd.isnull(x) else x)\n",
    "\n",
    "    dataset.drop('CAMEO_INTL_2015', axis = 1, inplace = True)\n",
    "    dataset.insert(len(dataset.columns), 'household_wealth', household_wealth)\n",
    "    dataset.insert(len(dataset.columns), 'family_stage', family_stage)\n",
    "\n",
    "re_engineer_cameo(azdias)"
   ]
  },
  {
   "cell_type": "markdown",
   "metadata": {},
   "source": [
    "##### Step 1.2.2.5: Engineer *PLZ8_BAUMAX*\n",
    "\n",
    "The last feature, *PLZ8_BAUMAX* brings information about the most common building type within the wide neighborhod. It makes a distinction on houses and business buildings. I'm going to replace it with a new variable.\n",
    "\n",
    "Dictionary for *plz8_houses*:\n",
    "```\n",
    "- 0: mainly not houses (business buildings)\n",
    "- 1: mainly 1-2 family homes\n",
    "- 2: mainly 3-5 family homes\n",
    "- 3: mainly 6-10 family homes\n",
    "- 4: mainly 10+ family homes\n",
    "```"
   ]
  },
  {
   "cell_type": "code",
   "execution_count": 40,
   "metadata": {},
   "outputs": [],
   "source": [
    "# Enigneer new variable for PLZ8_BAUMAX\n",
    "plz8_houses = azdias['PLZ8_BAUMAX'].apply(lambda x: 0 if x == 5 else x)"
   ]
  },
  {
   "cell_type": "markdown",
   "metadata": {},
   "source": [
    "Let's see its distribution."
   ]
  },
  {
   "cell_type": "code",
   "execution_count": 41,
   "metadata": {},
   "outputs": [
    {
     "data": {
      "text/plain": [
       "<matplotlib.axes._subplots.AxesSubplot at 0x7efd826e2a90>"
      ]
     },
     "execution_count": 41,
     "metadata": {},
     "output_type": "execute_result"
    },
    {
     "data": {
      "image/png": "[encoded data removed]",
      "text/plain": [
       "<Figure size 432x288 with 1 Axes>"
      ]
     },
     "metadata": {
      "needs_background": "light"
     },
     "output_type": "display_data"
    }
   ],
   "source": [
    "sns.countplot(plz8_houses)"
   ]
  },
  {
   "cell_type": "markdown",
   "metadata": {},
   "source": [
    "As you can see, it is dominated by value 1. It doesn't look to be very informative, so I will drop the orignal variable from the dataset."
   ]
  },
  {
   "cell_type": "code",
   "execution_count": 42,
   "metadata": {},
   "outputs": [],
   "source": [
    "# Drop PLZ8_BAUMAX from the dataset\n",
    "def drop_baumax(dataset):\n",
    "    dataset.drop('PLZ8_BAUMAX', axis = 1, inplace = True)\n",
    "\n",
    "drop_baumax(azdias)"
   ]
  },
  {
   "cell_type": "markdown",
   "metadata": {},
   "source": [
    "### Step 1.3: Create a cleaning function"
   ]
  },
  {
   "cell_type": "markdown",
   "metadata": {},
   "source": [
    "Here I'm going to create a cleaning function that I can use to clean the general or the customer dataset without re-running the previous cells again.\n",
    "\n",
    "My intention is for both datasets to have the same structure. That's why I will remove exactly the same outlier features from both datasets. I will also use the same threshold for outlier rows and apply the same re-encoding of the variables."
   ]
  },
  {
   "cell_type": "code",
   "execution_count": 43,
   "metadata": {},
   "outputs": [],
   "source": [
    "def clean_data(input_dataset):\n",
    "    dataset = input_dataset.copy()\n",
    "    # Replace missing codes with NaNs\n",
    "    convert_missing_codes_to_NaNs(dataset)\n",
    "    # Drop outlier features\n",
    "    drop_outlier_features(dataset)\n",
    "    # Drop outlier rows\n",
    "    dataset, outlier_rows = split_dataset_by_missing(dataset)\n",
    "\n",
    "    # Re-encode categorical variables\n",
    "    re_encode_ost_west_kz(dataset)\n",
    "    dataset = one_hot_encode(dataset, multi_level)\n",
    "\n",
    "    # Drop or re-engineer mixed type variables\n",
    "    drop_lebensphase(dataset)\n",
    "    re_engineer_pj(dataset)\n",
    "    re_engineer_wohnlage(dataset)\n",
    "    re_engineer_cameo(dataset)\n",
    "    drop_baumax(dataset)\n",
    "    \n",
    "    return (dataset, outlier_rows)"
   ]
  },
  {
   "cell_type": "markdown",
   "metadata": {},
   "source": [
    "Let's use the cleaning function and create a fresh copy of the dataset before the analysis."
   ]
  },
  {
   "cell_type": "code",
   "execution_count": 44,
   "metadata": {},
   "outputs": [],
   "source": [
    "general, general_outliers = clean_data(pd.read_csv('AZDIAS_Subset.csv', sep = ';'))"
   ]
  }
 ],
 "metadata": {
  "kernelspec": {
   "display_name": "Python 3",
   "language": "python",
   "name": "python3"
  },
  "language_info": {
   "codemirror_mode": {
    "name": "ipython",
    "version": 3
   },
   "file_extension": ".py",
   "mimetype": "text/x-python",
   "name": "python",
   "nbconvert_exporter": "python",
   "pygments_lexer": "ipython3",
   "version": "3.7.6"
  }
 },
 "nbformat": 4,
 "nbformat_minor": 4
}
