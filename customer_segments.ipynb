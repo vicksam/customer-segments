{
 "cells": [
  {
   "cell_type": "markdown",
   "metadata": {},
   "source": [
    "# Identifying Customer Segments"
   ]
  },
  {
   "cell_type": "markdown",
   "metadata": {},
   "source": [
    "## Project\n",
    "\n",
    "Datasets for this project were provided by the Bertlesmann Arvato Analytics. They concern the problem of a company performing mail-order sales in Germany. The company wants to target marketing campaigns towards the people that are most likely to purchase their products. The goal of the project is to identify customer segments with this in mind.\n",
    "\n",
    "Project involves dealing with messiness and robustness that comes with real life data. There are two datasets, one about the company's customers and the other one about general german population. The information from both of them needs to be matched to perform the analysis. The final step is to use clustering algorithms to solve the company's problem."
   ]
  }
 ],
 "metadata": {
  "kernelspec": {
   "display_name": "Python 3",
   "language": "python",
   "name": "python3"
  },
  "language_info": {
   "codemirror_mode": {
    "name": "ipython",
    "version": 3
   },
   "file_extension": ".py",
   "mimetype": "text/x-python",
   "name": "python",
   "nbconvert_exporter": "python",
   "pygments_lexer": "ipython3",
   "version": "3.7.6"
  }
 },
 "nbformat": 4,
 "nbformat_minor": 4
}
