{
 "cells": [
  {
   "cell_type": "markdown",
   "metadata": {},
   "source": [
    "# Identifying Customer Segments"
   ]
  },
  {
   "cell_type": "markdown",
   "metadata": {},
   "source": [
    "## Project\n",
    "\n",
    "Datasets for this project were provided by the Bertlesmann Arvato Analytics. They concern the problem of a company performing mail-order sales in Germany. The company wants to target marketing campaigns towards the people that are most likely to purchase their products. The goal of the project is to identify customer segments with this in mind.\n",
    "\n",
    "Project involves dealing with messiness and robustness that comes with real life data. There are two datasets, one about the company's customers and the other one about general german population. The information from both of them needs to be matched to perform the analysis. The final step is to use clustering algorithms to solve the company's problem."
   ]
  },
  {
   "cell_type": "markdown",
   "metadata": {},
   "source": [
    "## Import resources"
   ]
  },
  {
   "cell_type": "code",
   "execution_count": 1,
   "metadata": {},
   "outputs": [],
   "source": [
    "import numpy as np\n",
    "import pandas as pd\n",
    "import matplotlib.pyplot as plt\n",
    "import seaborn as sns\n",
    "\n",
    "%matplotlib inline"
   ]
  },
  {
   "cell_type": "markdown",
   "metadata": {},
   "source": [
    "## Load the data\n",
    "\n",
    "Arvato Analytics provided 4 files for the project:\n",
    "- `Udacity_AZDIAS_Subset.csv`: Demographics data for the general population of Germany; 891211 persons (rows) x 85 features (columns).\n",
    "- `Udacity_CUSTOMERS_Subset.csv`: Demographics data for customers of a mail-order company; 191652 persons (rows) x 85 features (columns).\n",
    "- `Data_Dictionary.md`: Detailed information file about the features in the provided datasets.\n",
    "- `AZDIAS_Feature_Summary.csv`: Summary of feature attributes for demographics data; 85 features (rows) x 4 columns\n",
    "\n",
    "First let's explore the general population data as the customer data has a similar structure."
   ]
  },
  {
   "cell_type": "code",
   "execution_count": 2,
   "metadata": {},
   "outputs": [],
   "source": [
    "# Load in the general demographics data.\n",
    "azdias = pd.read_csv('AZDIAS_Subset.csv', sep = ';')\n",
    "\n",
    "# Load in the feature summary file.\n",
    "feat_info = pd.read_csv('AZDIAS_Feature_Summary.csv', sep = ';')"
   ]
  },
  {
   "cell_type": "code",
   "execution_count": 3,
   "metadata": {},
   "outputs": [
    {
     "output_type": "execute_result",
     "data": {
      "text/plain": "   AGER_TYP  ALTERSKATEGORIE_GROB  ANREDE_KZ  CJT_GESAMTTYP  \\\n0        -1                     2          1            2.0   \n1        -1                     1          2            5.0   \n2        -1                     3          2            3.0   \n3         2                     4          2            2.0   \n4        -1                     3          1            5.0   \n\n   FINANZ_MINIMALIST  FINANZ_SPARER  FINANZ_VORSORGER  FINANZ_ANLEGER  \\\n0                  3              4                 3               5   \n1                  1              5                 2               5   \n2                  1              4                 1               2   \n3                  4              2                 5               2   \n4                  4              3                 4               1   \n\n   FINANZ_UNAUFFAELLIGER  FINANZ_HAUSBAUER  ...  PLZ8_ANTG1  PLZ8_ANTG2  \\\n0                      5                 3  ...         NaN         NaN   \n1                      4                 5  ...         2.0         3.0   \n2                      3                 5  ...         3.0         3.0   \n3                      1                 2  ...         2.0         2.0   \n4                      3                 2  ...         2.0         4.0   \n\n   PLZ8_ANTG3  PLZ8_ANTG4  PLZ8_BAUMAX  PLZ8_HHZ  PLZ8_GBZ  ARBEIT  \\\n0         NaN         NaN          NaN       NaN       NaN     NaN   \n1         2.0         1.0          1.0       5.0       4.0     3.0   \n2         1.0         0.0          1.0       4.0       4.0     3.0   \n3         2.0         0.0          1.0       3.0       4.0     2.0   \n4         2.0         1.0          2.0       3.0       3.0     4.0   \n\n   ORTSGR_KLS9  RELAT_AB  \n0          NaN       NaN  \n1          5.0       4.0  \n2          5.0       2.0  \n3          3.0       3.0  \n4          6.0       5.0  \n\n[5 rows x 85 columns]",
      "text/html": "<div>\n<style scoped>\n    .dataframe tbody tr th:only-of-type {\n        vertical-align: middle;\n    }\n\n    .dataframe tbody tr th {\n        vertical-align: top;\n    }\n\n    .dataframe thead th {\n        text-align: right;\n    }\n</style>\n<table border=\"1\" class=\"dataframe\">\n  <thead>\n    <tr style=\"text-align: right;\">\n      <th></th>\n      <th>AGER_TYP</th>\n      <th>ALTERSKATEGORIE_GROB</th>\n      <th>ANREDE_KZ</th>\n      <th>CJT_GESAMTTYP</th>\n      <th>FINANZ_MINIMALIST</th>\n      <th>FINANZ_SPARER</th>\n      <th>FINANZ_VORSORGER</th>\n      <th>FINANZ_ANLEGER</th>\n      <th>FINANZ_UNAUFFAELLIGER</th>\n      <th>FINANZ_HAUSBAUER</th>\n      <th>...</th>\n      <th>PLZ8_ANTG1</th>\n      <th>PLZ8_ANTG2</th>\n      <th>PLZ8_ANTG3</th>\n      <th>PLZ8_ANTG4</th>\n      <th>PLZ8_BAUMAX</th>\n      <th>PLZ8_HHZ</th>\n      <th>PLZ8_GBZ</th>\n      <th>ARBEIT</th>\n      <th>ORTSGR_KLS9</th>\n      <th>RELAT_AB</th>\n    </tr>\n  </thead>\n  <tbody>\n    <tr>\n      <th>0</th>\n      <td>-1</td>\n      <td>2</td>\n      <td>1</td>\n      <td>2.0</td>\n      <td>3</td>\n      <td>4</td>\n      <td>3</td>\n      <td>5</td>\n      <td>5</td>\n      <td>3</td>\n      <td>...</td>\n      <td>NaN</td>\n      <td>NaN</td>\n      <td>NaN</td>\n      <td>NaN</td>\n      <td>NaN</td>\n      <td>NaN</td>\n      <td>NaN</td>\n      <td>NaN</td>\n      <td>NaN</td>\n      <td>NaN</td>\n    </tr>\n    <tr>\n      <th>1</th>\n      <td>-1</td>\n      <td>1</td>\n      <td>2</td>\n      <td>5.0</td>\n      <td>1</td>\n      <td>5</td>\n      <td>2</td>\n      <td>5</td>\n      <td>4</td>\n      <td>5</td>\n      <td>...</td>\n      <td>2.0</td>\n      <td>3.0</td>\n      <td>2.0</td>\n      <td>1.0</td>\n      <td>1.0</td>\n      <td>5.0</td>\n      <td>4.0</td>\n      <td>3.0</td>\n      <td>5.0</td>\n      <td>4.0</td>\n    </tr>\n    <tr>\n      <th>2</th>\n      <td>-1</td>\n      <td>3</td>\n      <td>2</td>\n      <td>3.0</td>\n      <td>1</td>\n      <td>4</td>\n      <td>1</td>\n      <td>2</td>\n      <td>3</td>\n      <td>5</td>\n      <td>...</td>\n      <td>3.0</td>\n      <td>3.0</td>\n      <td>1.0</td>\n      <td>0.0</td>\n      <td>1.0</td>\n      <td>4.0</td>\n      <td>4.0</td>\n      <td>3.0</td>\n      <td>5.0</td>\n      <td>2.0</td>\n    </tr>\n    <tr>\n      <th>3</th>\n      <td>2</td>\n      <td>4</td>\n      <td>2</td>\n      <td>2.0</td>\n      <td>4</td>\n      <td>2</td>\n      <td>5</td>\n      <td>2</td>\n      <td>1</td>\n      <td>2</td>\n      <td>...</td>\n      <td>2.0</td>\n      <td>2.0</td>\n      <td>2.0</td>\n      <td>0.0</td>\n      <td>1.0</td>\n      <td>3.0</td>\n      <td>4.0</td>\n      <td>2.0</td>\n      <td>3.0</td>\n      <td>3.0</td>\n    </tr>\n    <tr>\n      <th>4</th>\n      <td>-1</td>\n      <td>3</td>\n      <td>1</td>\n      <td>5.0</td>\n      <td>4</td>\n      <td>3</td>\n      <td>4</td>\n      <td>1</td>\n      <td>3</td>\n      <td>2</td>\n      <td>...</td>\n      <td>2.0</td>\n      <td>4.0</td>\n      <td>2.0</td>\n      <td>1.0</td>\n      <td>2.0</td>\n      <td>3.0</td>\n      <td>3.0</td>\n      <td>4.0</td>\n      <td>6.0</td>\n      <td>5.0</td>\n    </tr>\n  </tbody>\n</table>\n<p>5 rows × 85 columns</p>\n</div>"
     },
     "metadata": {},
     "execution_count": 3
    }
   ],
   "source": [
    "# Display a first few rows\n",
    "azdias.head()"
   ]
  },
  {
   "cell_type": "markdown",
   "metadata": {},
   "source": [
    "Features seem to be encoded numerically, there are some NaN values."
   ]
  },
  {
   "cell_type": "code",
   "execution_count": 4,
   "metadata": {},
   "outputs": [
    {
     "output_type": "execute_result",
     "data": {
      "text/plain": "              attribute information_level         type missing_or_unknown\n0              AGER_TYP            person  categorical             [-1,0]\n1  ALTERSKATEGORIE_GROB            person      ordinal           [-1,0,9]\n2             ANREDE_KZ            person  categorical             [-1,0]\n3         CJT_GESAMTTYP            person  categorical                [0]\n4     FINANZ_MINIMALIST            person      ordinal               [-1]",
      "text/html": "<div>\n<style scoped>\n    .dataframe tbody tr th:only-of-type {\n        vertical-align: middle;\n    }\n\n    .dataframe tbody tr th {\n        vertical-align: top;\n    }\n\n    .dataframe thead th {\n        text-align: right;\n    }\n</style>\n<table border=\"1\" class=\"dataframe\">\n  <thead>\n    <tr style=\"text-align: right;\">\n      <th></th>\n      <th>attribute</th>\n      <th>information_level</th>\n      <th>type</th>\n      <th>missing_or_unknown</th>\n    </tr>\n  </thead>\n  <tbody>\n    <tr>\n      <th>0</th>\n      <td>AGER_TYP</td>\n      <td>person</td>\n      <td>categorical</td>\n      <td>[-1,0]</td>\n    </tr>\n    <tr>\n      <th>1</th>\n      <td>ALTERSKATEGORIE_GROB</td>\n      <td>person</td>\n      <td>ordinal</td>\n      <td>[-1,0,9]</td>\n    </tr>\n    <tr>\n      <th>2</th>\n      <td>ANREDE_KZ</td>\n      <td>person</td>\n      <td>categorical</td>\n      <td>[-1,0]</td>\n    </tr>\n    <tr>\n      <th>3</th>\n      <td>CJT_GESAMTTYP</td>\n      <td>person</td>\n      <td>categorical</td>\n      <td>[0]</td>\n    </tr>\n    <tr>\n      <th>4</th>\n      <td>FINANZ_MINIMALIST</td>\n      <td>person</td>\n      <td>ordinal</td>\n      <td>[-1]</td>\n    </tr>\n  </tbody>\n</table>\n</div>"
     },
     "metadata": {},
     "execution_count": 4
    }
   ],
   "source": [
    "# Print a few info records about the features to see how it looks\n",
    "feat_info.head()"
   ]
  },
  {
   "cell_type": "markdown",
   "metadata": {},
   "source": [
    "Some of missing values were encoded with the values given here."
   ]
  },
  {
   "cell_type": "code",
   "execution_count": 5,
   "metadata": {
    "tags": []
   },
   "outputs": [
    {
     "output_type": "stream",
     "name": "stdout",
     "text": "<class 'pandas.core.frame.DataFrame'>\nRangeIndex: 891221 entries, 0 to 891220\nData columns (total 85 columns):\n #   Column                 Non-Null Count   Dtype  \n---  ------                 --------------   -----  \n 0   AGER_TYP               891221 non-null  int64  \n 1   ALTERSKATEGORIE_GROB   891221 non-null  int64  \n 2   ANREDE_KZ              891221 non-null  int64  \n 3   CJT_GESAMTTYP          886367 non-null  float64\n 4   FINANZ_MINIMALIST      891221 non-null  int64  \n 5   FINANZ_SPARER          891221 non-null  int64  \n 6   FINANZ_VORSORGER       891221 non-null  int64  \n 7   FINANZ_ANLEGER         891221 non-null  int64  \n 8   FINANZ_UNAUFFAELLIGER  891221 non-null  int64  \n 9   FINANZ_HAUSBAUER       891221 non-null  int64  \n 10  FINANZTYP              891221 non-null  int64  \n 11  GEBURTSJAHR            891221 non-null  int64  \n 12  GFK_URLAUBERTYP        886367 non-null  float64\n 13  GREEN_AVANTGARDE       891221 non-null  int64  \n 14  HEALTH_TYP             891221 non-null  int64  \n 15  LP_LEBENSPHASE_FEIN    886367 non-null  float64\n 16  LP_LEBENSPHASE_GROB    886367 non-null  float64\n 17  LP_FAMILIE_FEIN        886367 non-null  float64\n 18  LP_FAMILIE_GROB        886367 non-null  float64\n 19  LP_STATUS_FEIN         886367 non-null  float64\n 20  LP_STATUS_GROB         886367 non-null  float64\n 21  NATIONALITAET_KZ       891221 non-null  int64  \n 22  PRAEGENDE_JUGENDJAHRE  891221 non-null  int64  \n 23  RETOURTYP_BK_S         886367 non-null  float64\n 24  SEMIO_SOZ              891221 non-null  int64  \n 25  SEMIO_FAM              891221 non-null  int64  \n 26  SEMIO_REL              891221 non-null  int64  \n 27  SEMIO_MAT              891221 non-null  int64  \n 28  SEMIO_VERT             891221 non-null  int64  \n 29  SEMIO_LUST             891221 non-null  int64  \n 30  SEMIO_ERL              891221 non-null  int64  \n 31  SEMIO_KULT             891221 non-null  int64  \n 32  SEMIO_RAT              891221 non-null  int64  \n 33  SEMIO_KRIT             891221 non-null  int64  \n 34  SEMIO_DOM              891221 non-null  int64  \n 35  SEMIO_KAEM             891221 non-null  int64  \n 36  SEMIO_PFLICHT          891221 non-null  int64  \n 37  SEMIO_TRADV            891221 non-null  int64  \n 38  SHOPPER_TYP            891221 non-null  int64  \n 39  SOHO_KZ                817722 non-null  float64\n 40  TITEL_KZ               817722 non-null  float64\n 41  VERS_TYP               891221 non-null  int64  \n 42  ZABEOTYP               891221 non-null  int64  \n 43  ALTER_HH               817722 non-null  float64\n 44  ANZ_PERSONEN           817722 non-null  float64\n 45  ANZ_TITEL              817722 non-null  float64\n 46  HH_EINKOMMEN_SCORE     872873 non-null  float64\n 47  KK_KUNDENTYP           306609 non-null  float64\n 48  W_KEIT_KIND_HH         783619 non-null  float64\n 49  WOHNDAUER_2008         817722 non-null  float64\n 50  ANZ_HAUSHALTE_AKTIV    798073 non-null  float64\n 51  ANZ_HH_TITEL           794213 non-null  float64\n 52  GEBAEUDETYP            798073 non-null  float64\n 53  KONSUMNAEHE            817252 non-null  float64\n 54  MIN_GEBAEUDEJAHR       798073 non-null  float64\n 55  OST_WEST_KZ            798073 non-null  object \n 56  WOHNLAGE               798073 non-null  float64\n 57  CAMEO_DEUG_2015        792242 non-null  object \n 58  CAMEO_DEU_2015         792242 non-null  object \n 59  CAMEO_INTL_2015        792242 non-null  object \n 60  KBA05_ANTG1            757897 non-null  float64\n 61  KBA05_ANTG2            757897 non-null  float64\n 62  KBA05_ANTG3            757897 non-null  float64\n 63  KBA05_ANTG4            757897 non-null  float64\n 64  KBA05_BAUMAX           757897 non-null  float64\n 65  KBA05_GBZ              757897 non-null  float64\n 66  BALLRAUM               797481 non-null  float64\n 67  EWDICHTE               797481 non-null  float64\n 68  INNENSTADT             797481 non-null  float64\n 69  GEBAEUDETYP_RASTER     798066 non-null  float64\n 70  KKK                    770025 non-null  float64\n 71  MOBI_REGIO             757897 non-null  float64\n 72  ONLINE_AFFINITAET      886367 non-null  float64\n 73  REGIOTYP               770025 non-null  float64\n 74  KBA13_ANZAHL_PKW       785421 non-null  float64\n 75  PLZ8_ANTG1             774706 non-null  float64\n 76  PLZ8_ANTG2             774706 non-null  float64\n 77  PLZ8_ANTG3             774706 non-null  float64\n 78  PLZ8_ANTG4             774706 non-null  float64\n 79  PLZ8_BAUMAX            774706 non-null  float64\n 80  PLZ8_HHZ               774706 non-null  float64\n 81  PLZ8_GBZ               774706 non-null  float64\n 82  ARBEIT                 794005 non-null  float64\n 83  ORTSGR_KLS9            794005 non-null  float64\n 84  RELAT_AB               794005 non-null  float64\ndtypes: float64(49), int64(32), object(4)\nmemory usage: 578.0+ MB\n"
    }
   ],
   "source": [
    "azdias.info()"
   ]
  },
  {
   "cell_type": "markdown",
   "metadata": {},
   "source": [
    "Many columns contain missing data. Most but not all columns are numerical which is indicated by the object type of 4 of them."
   ]
  }
 ],
 "metadata": {
  "kernelspec": {
   "display_name": "Python 3",
   "language": "python",
   "name": "python3"
  },
  "language_info": {
   "codemirror_mode": {
    "name": "ipython",
    "version": 3
   },
   "file_extension": ".py",
   "mimetype": "text/x-python",
   "name": "python",
   "nbconvert_exporter": "python",
   "pygments_lexer": "ipython3",
   "version": "3.7.6-final"
  }
 },
 "nbformat": 4,
 "nbformat_minor": 4
}